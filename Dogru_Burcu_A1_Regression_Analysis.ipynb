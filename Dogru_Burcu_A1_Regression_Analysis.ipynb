{
 "cells": [
  {
   "cell_type": "markdown",
   "metadata": {},
   "source": [
    "# Regression Model Development- Apprentice_Chef\n",
    "<b> Machine Learning </b> <br>\n",
    "Burcu Dogru <br>\n",
    "Hult International Business School"
   ]
  },
  {
   "cell_type": "markdown",
   "metadata": {},
   "source": [
    "## Objective \n",
    "\n",
    "Apprentice Chef, Inc. is an innovative company with a unique spin on cooking at home. Developed for the busy professional that has little to no skills in the kitchen, they offer a wide selection of daily-prepared gourmet meals delivered directly to your door. \n",
    "My goal of working on this project is to build a machine learning model which is going to predict how much revenue to expect over the first year of each customer's life cycle."
   ]
  },
  {
   "cell_type": "markdown",
   "metadata": {},
   "source": [
    "## Importing Necessary Libraries and Dataset into Jupyter Notebook"
   ]
  },
  {
   "cell_type": "code",
   "execution_count": 10,
   "metadata": {},
   "outputs": [],
   "source": [
    "#importing necessary libraries\n",
    "import pandas as pd #datascience essentials\n",
    "import matplotlib.pyplot as plt #essential graphical output\n",
    "import seaborn as sns #enhanced graphical output\n",
    "import numpy as np #mathematical essentials\n",
    "import statsmodels.formula.api as smf #regression modeling\n",
    "from sklearn.model_selection import train_test_split # train/test split\n",
    "from sklearn.linear_model import LinearRegression # Linear Regression\n",
    "from sklearn.linear_model import Lasso #Lasso Regression\n",
    "import sklearn.linear_model # linear models\n",
    "\n",
    "\n",
    "#setting pandas print options\n",
    "pd.set_option('display.max_rows', 500)\n",
    "pd.set_option('display.max_columns', 500)\n",
    "pd.set_option('display.width', 500)\n",
    "\n",
    "\n",
    "#specifying the file name\n",
    "file = './datasets/Apprentice_Chef_Dataset.xlsx'\n",
    "\n",
    "#reading the file into python\n",
    "apprentice_df = pd.read_excel( io = file)"
   ]
  },
  {
   "cell_type": "markdown",
   "metadata": {},
   "source": [
    "## Initial Data Exploration"
   ]
  },
  {
   "cell_type": "markdown",
   "metadata": {},
   "source": [
    "After importing necessary libraries and reading the file into python, I will explore the dataset more to check for some insights that will help me with data cleaning and feature engineering. Let's start with seeing numbers of rows and columns."
   ]
  },
  {
   "cell_type": "code",
   "execution_count": 11,
   "metadata": {
    "code_folding": []
   },
   "outputs": [
    {
     "data": {
      "text/plain": [
       "(1946, 28)"
      ]
     },
     "execution_count": 11,
     "metadata": {},
     "output_type": "execute_result"
    }
   ],
   "source": [
    "# using .shape to view ROWS, COLUMNS\n",
    "apprentice_df.shape"
   ]
  },
  {
   "cell_type": "markdown",
   "metadata": {},
   "source": [
    "To get the general idea of the variables, lets print the column names of dataset"
   ]
  },
  {
   "cell_type": "code",
   "execution_count": 12,
   "metadata": {},
   "outputs": [
    {
     "name": "stdout",
     "output_type": "stream",
     "text": [
      "Index(['REVENUE', 'CROSS_SELL_SUCCESS', 'NAME', 'EMAIL', 'FIRST_NAME', 'FAMILY_NAME', 'TOTAL_MEALS_ORDERED', 'UNIQUE_MEALS_PURCH', 'CONTACTS_W_CUSTOMER_SERVICE', 'PRODUCT_CATEGORIES_VIEWED', 'AVG_TIME_PER_SITE_VISIT', 'MOBILE_NUMBER', 'CANCELLATIONS_BEFORE_NOON', 'CANCELLATIONS_AFTER_NOON', 'TASTES_AND_PREFERENCES', 'PC_LOGINS', 'MOBILE_LOGINS', 'WEEKLY_PLAN', 'EARLY_DELIVERIES', 'LATE_DELIVERIES', 'PACKAGE_LOCKER', 'REFRIGERATED_LOCKER', 'AVG_PREP_VID_TIME', 'LARGEST_ORDER_SIZE',\n",
      "       'MASTER_CLASSES_ATTENDED', 'MEDIAN_MEAL_RATING', 'AVG_CLICKS_PER_VISIT', 'TOTAL_PHOTOS_VIEWED'],\n",
      "      dtype='object')\n"
     ]
    }
   ],
   "source": [
    "print(apprentice_df.columns)"
   ]
  },
  {
   "cell_type": "markdown",
   "metadata": {},
   "source": [
    "I am going to use info() to extend my knowledge about the dataframe."
   ]
  },
  {
   "cell_type": "code",
   "execution_count": 13,
   "metadata": {
    "scrolled": true
   },
   "outputs": [
    {
     "name": "stdout",
     "output_type": "stream",
     "text": [
      "<class 'pandas.core.frame.DataFrame'>\n",
      "RangeIndex: 1946 entries, 0 to 1945\n",
      "Data columns (total 28 columns):\n",
      " #   Column                       Non-Null Count  Dtype  \n",
      "---  ------                       --------------  -----  \n",
      " 0   REVENUE                      1946 non-null   float64\n",
      " 1   CROSS_SELL_SUCCESS           1946 non-null   int64  \n",
      " 2   NAME                         1946 non-null   object \n",
      " 3   EMAIL                        1946 non-null   object \n",
      " 4   FIRST_NAME                   1946 non-null   object \n",
      " 5   FAMILY_NAME                  1899 non-null   object \n",
      " 6   TOTAL_MEALS_ORDERED          1946 non-null   int64  \n",
      " 7   UNIQUE_MEALS_PURCH           1946 non-null   int64  \n",
      " 8   CONTACTS_W_CUSTOMER_SERVICE  1946 non-null   int64  \n",
      " 9   PRODUCT_CATEGORIES_VIEWED    1946 non-null   int64  \n",
      " 10  AVG_TIME_PER_SITE_VISIT      1946 non-null   float64\n",
      " 11  MOBILE_NUMBER                1946 non-null   int64  \n",
      " 12  CANCELLATIONS_BEFORE_NOON    1946 non-null   int64  \n",
      " 13  CANCELLATIONS_AFTER_NOON     1946 non-null   int64  \n",
      " 14  TASTES_AND_PREFERENCES       1946 non-null   int64  \n",
      " 15  PC_LOGINS                    1946 non-null   int64  \n",
      " 16  MOBILE_LOGINS                1946 non-null   int64  \n",
      " 17  WEEKLY_PLAN                  1946 non-null   int64  \n",
      " 18  EARLY_DELIVERIES             1946 non-null   int64  \n",
      " 19  LATE_DELIVERIES              1946 non-null   int64  \n",
      " 20  PACKAGE_LOCKER               1946 non-null   int64  \n",
      " 21  REFRIGERATED_LOCKER          1946 non-null   int64  \n",
      " 22  AVG_PREP_VID_TIME            1946 non-null   float64\n",
      " 23  LARGEST_ORDER_SIZE           1946 non-null   int64  \n",
      " 24  MASTER_CLASSES_ATTENDED      1946 non-null   int64  \n",
      " 25  MEDIAN_MEAL_RATING           1946 non-null   int64  \n",
      " 26  AVG_CLICKS_PER_VISIT         1946 non-null   int64  \n",
      " 27  TOTAL_PHOTOS_VIEWED          1946 non-null   int64  \n",
      "dtypes: float64(3), int64(21), object(4)\n",
      "memory usage: 425.8+ KB\n"
     ]
    }
   ],
   "source": [
    "apprentice_df.info()"
   ]
  },
  {
   "cell_type": "markdown",
   "metadata": {},
   "source": [
    "Lets take a look at the first couple of rows of the dataset."
   ]
  },
  {
   "cell_type": "code",
   "execution_count": 14,
   "metadata": {
    "scrolled": true
   },
   "outputs": [
    {
     "data": {
      "text/html": [
       "<div>\n",
       "<style scoped>\n",
       "    .dataframe tbody tr th:only-of-type {\n",
       "        vertical-align: middle;\n",
       "    }\n",
       "\n",
       "    .dataframe tbody tr th {\n",
       "        vertical-align: top;\n",
       "    }\n",
       "\n",
       "    .dataframe thead th {\n",
       "        text-align: right;\n",
       "    }\n",
       "</style>\n",
       "<table border=\"1\" class=\"dataframe\">\n",
       "  <thead>\n",
       "    <tr style=\"text-align: right;\">\n",
       "      <th></th>\n",
       "      <th>REVENUE</th>\n",
       "      <th>CROSS_SELL_SUCCESS</th>\n",
       "      <th>NAME</th>\n",
       "      <th>EMAIL</th>\n",
       "      <th>FIRST_NAME</th>\n",
       "      <th>FAMILY_NAME</th>\n",
       "      <th>TOTAL_MEALS_ORDERED</th>\n",
       "      <th>UNIQUE_MEALS_PURCH</th>\n",
       "      <th>CONTACTS_W_CUSTOMER_SERVICE</th>\n",
       "      <th>PRODUCT_CATEGORIES_VIEWED</th>\n",
       "      <th>AVG_TIME_PER_SITE_VISIT</th>\n",
       "      <th>MOBILE_NUMBER</th>\n",
       "      <th>CANCELLATIONS_BEFORE_NOON</th>\n",
       "      <th>CANCELLATIONS_AFTER_NOON</th>\n",
       "      <th>TASTES_AND_PREFERENCES</th>\n",
       "      <th>PC_LOGINS</th>\n",
       "      <th>MOBILE_LOGINS</th>\n",
       "      <th>WEEKLY_PLAN</th>\n",
       "      <th>EARLY_DELIVERIES</th>\n",
       "      <th>LATE_DELIVERIES</th>\n",
       "      <th>PACKAGE_LOCKER</th>\n",
       "      <th>REFRIGERATED_LOCKER</th>\n",
       "      <th>AVG_PREP_VID_TIME</th>\n",
       "      <th>LARGEST_ORDER_SIZE</th>\n",
       "      <th>MASTER_CLASSES_ATTENDED</th>\n",
       "      <th>MEDIAN_MEAL_RATING</th>\n",
       "      <th>AVG_CLICKS_PER_VISIT</th>\n",
       "      <th>TOTAL_PHOTOS_VIEWED</th>\n",
       "    </tr>\n",
       "  </thead>\n",
       "  <tbody>\n",
       "    <tr>\n",
       "      <th>0</th>\n",
       "      <td>393.0</td>\n",
       "      <td>1</td>\n",
       "      <td>Saathos</td>\n",
       "      <td>saathos@unitedhealth.com</td>\n",
       "      <td>Saathos</td>\n",
       "      <td>Saathos</td>\n",
       "      <td>14</td>\n",
       "      <td>6</td>\n",
       "      <td>12</td>\n",
       "      <td>10</td>\n",
       "      <td>48.00</td>\n",
       "      <td>1</td>\n",
       "      <td>3</td>\n",
       "      <td>1</td>\n",
       "      <td>1</td>\n",
       "      <td>5</td>\n",
       "      <td>2</td>\n",
       "      <td>0</td>\n",
       "      <td>0</td>\n",
       "      <td>2</td>\n",
       "      <td>0</td>\n",
       "      <td>0</td>\n",
       "      <td>33.4</td>\n",
       "      <td>1</td>\n",
       "      <td>0</td>\n",
       "      <td>1</td>\n",
       "      <td>17</td>\n",
       "      <td>0</td>\n",
       "    </tr>\n",
       "    <tr>\n",
       "      <th>1</th>\n",
       "      <td>1365.0</td>\n",
       "      <td>1</td>\n",
       "      <td>Alysanne Osgrey</td>\n",
       "      <td>alysanne.osgrey@ge.org</td>\n",
       "      <td>Alysanne</td>\n",
       "      <td>Osgrey</td>\n",
       "      <td>87</td>\n",
       "      <td>3</td>\n",
       "      <td>8</td>\n",
       "      <td>8</td>\n",
       "      <td>40.35</td>\n",
       "      <td>1</td>\n",
       "      <td>0</td>\n",
       "      <td>0</td>\n",
       "      <td>1</td>\n",
       "      <td>5</td>\n",
       "      <td>1</td>\n",
       "      <td>12</td>\n",
       "      <td>0</td>\n",
       "      <td>2</td>\n",
       "      <td>0</td>\n",
       "      <td>0</td>\n",
       "      <td>84.8</td>\n",
       "      <td>1</td>\n",
       "      <td>0</td>\n",
       "      <td>3</td>\n",
       "      <td>13</td>\n",
       "      <td>170</td>\n",
       "    </tr>\n",
       "    <tr>\n",
       "      <th>2</th>\n",
       "      <td>800.0</td>\n",
       "      <td>1</td>\n",
       "      <td>Edwyd Fossoway</td>\n",
       "      <td>edwyd.fossoway@jnj.com</td>\n",
       "      <td>Edwyd</td>\n",
       "      <td>Fossoway</td>\n",
       "      <td>15</td>\n",
       "      <td>7</td>\n",
       "      <td>11</td>\n",
       "      <td>5</td>\n",
       "      <td>19.77</td>\n",
       "      <td>1</td>\n",
       "      <td>3</td>\n",
       "      <td>0</td>\n",
       "      <td>1</td>\n",
       "      <td>6</td>\n",
       "      <td>1</td>\n",
       "      <td>1</td>\n",
       "      <td>0</td>\n",
       "      <td>1</td>\n",
       "      <td>0</td>\n",
       "      <td>0</td>\n",
       "      <td>63.0</td>\n",
       "      <td>1</td>\n",
       "      <td>0</td>\n",
       "      <td>2</td>\n",
       "      <td>16</td>\n",
       "      <td>0</td>\n",
       "    </tr>\n",
       "    <tr>\n",
       "      <th>3</th>\n",
       "      <td>600.0</td>\n",
       "      <td>1</td>\n",
       "      <td>Eleyna Westerling</td>\n",
       "      <td>eleyna.westerling@ge.org</td>\n",
       "      <td>Eleyna</td>\n",
       "      <td>Westerling</td>\n",
       "      <td>13</td>\n",
       "      <td>6</td>\n",
       "      <td>11</td>\n",
       "      <td>5</td>\n",
       "      <td>90.00</td>\n",
       "      <td>1</td>\n",
       "      <td>2</td>\n",
       "      <td>0</td>\n",
       "      <td>1</td>\n",
       "      <td>6</td>\n",
       "      <td>1</td>\n",
       "      <td>14</td>\n",
       "      <td>0</td>\n",
       "      <td>3</td>\n",
       "      <td>0</td>\n",
       "      <td>0</td>\n",
       "      <td>43.8</td>\n",
       "      <td>1</td>\n",
       "      <td>0</td>\n",
       "      <td>2</td>\n",
       "      <td>14</td>\n",
       "      <td>0</td>\n",
       "    </tr>\n",
       "    <tr>\n",
       "      <th>4</th>\n",
       "      <td>1490.0</td>\n",
       "      <td>1</td>\n",
       "      <td>Elyn Norridge</td>\n",
       "      <td>elyn.norridge@jnj.com</td>\n",
       "      <td>Elyn</td>\n",
       "      <td>Norridge</td>\n",
       "      <td>47</td>\n",
       "      <td>8</td>\n",
       "      <td>6</td>\n",
       "      <td>10</td>\n",
       "      <td>40.38</td>\n",
       "      <td>1</td>\n",
       "      <td>0</td>\n",
       "      <td>0</td>\n",
       "      <td>0</td>\n",
       "      <td>5</td>\n",
       "      <td>1</td>\n",
       "      <td>5</td>\n",
       "      <td>0</td>\n",
       "      <td>8</td>\n",
       "      <td>0</td>\n",
       "      <td>0</td>\n",
       "      <td>84.8</td>\n",
       "      <td>1</td>\n",
       "      <td>1</td>\n",
       "      <td>3</td>\n",
       "      <td>12</td>\n",
       "      <td>205</td>\n",
       "    </tr>\n",
       "  </tbody>\n",
       "</table>\n",
       "</div>"
      ],
      "text/plain": [
       "   REVENUE  CROSS_SELL_SUCCESS               NAME                     EMAIL FIRST_NAME FAMILY_NAME  TOTAL_MEALS_ORDERED  UNIQUE_MEALS_PURCH  CONTACTS_W_CUSTOMER_SERVICE  PRODUCT_CATEGORIES_VIEWED  AVG_TIME_PER_SITE_VISIT  MOBILE_NUMBER  CANCELLATIONS_BEFORE_NOON  CANCELLATIONS_AFTER_NOON  TASTES_AND_PREFERENCES  PC_LOGINS  MOBILE_LOGINS  WEEKLY_PLAN  EARLY_DELIVERIES  LATE_DELIVERIES  PACKAGE_LOCKER  REFRIGERATED_LOCKER  AVG_PREP_VID_TIME  LARGEST_ORDER_SIZE  MASTER_CLASSES_ATTENDED  \\\n",
       "0    393.0                   1            Saathos  saathos@unitedhealth.com    Saathos     Saathos                   14                   6                           12                         10                    48.00              1                          3                         1                       1          5              2            0                 0                2               0                    0               33.4                   1                        0   \n",
       "1   1365.0                   1    Alysanne Osgrey    alysanne.osgrey@ge.org   Alysanne      Osgrey                   87                   3                            8                          8                    40.35              1                          0                         0                       1          5              1           12                 0                2               0                    0               84.8                   1                        0   \n",
       "2    800.0                   1     Edwyd Fossoway    edwyd.fossoway@jnj.com      Edwyd    Fossoway                   15                   7                           11                          5                    19.77              1                          3                         0                       1          6              1            1                 0                1               0                    0               63.0                   1                        0   \n",
       "3    600.0                   1  Eleyna Westerling  eleyna.westerling@ge.org     Eleyna  Westerling                   13                   6                           11                          5                    90.00              1                          2                         0                       1          6              1           14                 0                3               0                    0               43.8                   1                        0   \n",
       "4   1490.0                   1      Elyn Norridge     elyn.norridge@jnj.com       Elyn    Norridge                   47                   8                            6                         10                    40.38              1                          0                         0                       0          5              1            5                 0                8               0                    0               84.8                   1                        1   \n",
       "\n",
       "   MEDIAN_MEAL_RATING  AVG_CLICKS_PER_VISIT  TOTAL_PHOTOS_VIEWED  \n",
       "0                   1                    17                    0  \n",
       "1                   3                    13                  170  \n",
       "2                   2                    16                    0  \n",
       "3                   2                    14                    0  \n",
       "4                   3                    12                  205  "
      ]
     },
     "execution_count": 14,
     "metadata": {},
     "output_type": "execute_result"
    }
   ],
   "source": [
    "apprentice_df.head(n = 5)"
   ]
  },
  {
   "cell_type": "markdown",
   "metadata": {},
   "source": [
    "Now I am going to develop a histogram to analyze the distribution of dependant variable. Exploring skewness in the histogram indicates that Y variable might need transformation for further steps in the analysis."
   ]
  },
  {
   "cell_type": "code",
   "execution_count": 15,
   "metadata": {},
   "outputs": [
    {
     "name": "stderr",
     "output_type": "stream",
     "text": [
      "/opt/anaconda3/lib/python3.8/site-packages/seaborn/distributions.py:2551: FutureWarning: `distplot` is a deprecated function and will be removed in a future version. Please adapt your code to use either `displot` (a figure-level function with similar flexibility) or `histplot` (an axes-level function for histograms).\n",
      "  warnings.warn(msg, FutureWarning)\n"
     ]
    },
    {
     "data": {
      "image/png": "[encoded data removed]",
      "text/plain": [
       "<Figure size 432x288 with 1 Axes>"
      ]
     },
     "metadata": {
      "needs_background": "light"
     },
     "output_type": "display_data"
    }
   ],
   "source": [
    "# developing a histogram using distplot\n",
    "sns.distplot(a = apprentice_df['REVENUE'])\n",
    "\n",
    "# displaying the histogram\n",
    "plt.show()"
   ]
  },
  {
   "cell_type": "markdown",
   "metadata": {},
   "source": [
    "Lets use descriptive statistics to explore each quantitative column by rounding to 2 decimal places."
   ]
  },
  {
   "cell_type": "code",
   "execution_count": 16,
   "metadata": {},
   "outputs": [
    {
     "data": {
      "text/html": [
       "<div>\n",
       "<style scoped>\n",
       "    .dataframe tbody tr th:only-of-type {\n",
       "        vertical-align: middle;\n",
       "    }\n",
       "\n",
       "    .dataframe tbody tr th {\n",
       "        vertical-align: top;\n",
       "    }\n",
       "\n",
       "    .dataframe thead th {\n",
       "        text-align: right;\n",
       "    }\n",
       "</style>\n",
       "<table border=\"1\" class=\"dataframe\">\n",
       "  <thead>\n",
       "    <tr style=\"text-align: right;\">\n",
       "      <th></th>\n",
       "      <th>REVENUE</th>\n",
       "      <th>CROSS_SELL_SUCCESS</th>\n",
       "      <th>TOTAL_MEALS_ORDERED</th>\n",
       "      <th>UNIQUE_MEALS_PURCH</th>\n",
       "      <th>CONTACTS_W_CUSTOMER_SERVICE</th>\n",
       "      <th>PRODUCT_CATEGORIES_VIEWED</th>\n",
       "      <th>AVG_TIME_PER_SITE_VISIT</th>\n",
       "      <th>MOBILE_NUMBER</th>\n",
       "      <th>CANCELLATIONS_BEFORE_NOON</th>\n",
       "      <th>CANCELLATIONS_AFTER_NOON</th>\n",
       "      <th>TASTES_AND_PREFERENCES</th>\n",
       "      <th>PC_LOGINS</th>\n",
       "      <th>MOBILE_LOGINS</th>\n",
       "      <th>WEEKLY_PLAN</th>\n",
       "      <th>EARLY_DELIVERIES</th>\n",
       "      <th>LATE_DELIVERIES</th>\n",
       "      <th>PACKAGE_LOCKER</th>\n",
       "      <th>REFRIGERATED_LOCKER</th>\n",
       "      <th>AVG_PREP_VID_TIME</th>\n",
       "      <th>LARGEST_ORDER_SIZE</th>\n",
       "      <th>MASTER_CLASSES_ATTENDED</th>\n",
       "      <th>MEDIAN_MEAL_RATING</th>\n",
       "      <th>AVG_CLICKS_PER_VISIT</th>\n",
       "      <th>TOTAL_PHOTOS_VIEWED</th>\n",
       "    </tr>\n",
       "  </thead>\n",
       "  <tbody>\n",
       "    <tr>\n",
       "      <th>count</th>\n",
       "      <td>1946.00</td>\n",
       "      <td>1946.00</td>\n",
       "      <td>1946.00</td>\n",
       "      <td>1946.0</td>\n",
       "      <td>1946.00</td>\n",
       "      <td>1946.00</td>\n",
       "      <td>1946.00</td>\n",
       "      <td>1946.00</td>\n",
       "      <td>1946.00</td>\n",
       "      <td>1946.00</td>\n",
       "      <td>1946.00</td>\n",
       "      <td>1946.00</td>\n",
       "      <td>1946.00</td>\n",
       "      <td>1946.00</td>\n",
       "      <td>1946.00</td>\n",
       "      <td>1946.00</td>\n",
       "      <td>1946.00</td>\n",
       "      <td>1946.00</td>\n",
       "      <td>1946.00</td>\n",
       "      <td>1946.00</td>\n",
       "      <td>1946.00</td>\n",
       "      <td>1946.00</td>\n",
       "      <td>1946.00</td>\n",
       "      <td>1946.00</td>\n",
       "    </tr>\n",
       "    <tr>\n",
       "      <th>mean</th>\n",
       "      <td>2107.29</td>\n",
       "      <td>0.68</td>\n",
       "      <td>74.63</td>\n",
       "      <td>4.9</td>\n",
       "      <td>6.98</td>\n",
       "      <td>5.38</td>\n",
       "      <td>99.60</td>\n",
       "      <td>0.88</td>\n",
       "      <td>1.40</td>\n",
       "      <td>0.17</td>\n",
       "      <td>0.71</td>\n",
       "      <td>5.52</td>\n",
       "      <td>1.48</td>\n",
       "      <td>11.33</td>\n",
       "      <td>1.49</td>\n",
       "      <td>2.97</td>\n",
       "      <td>0.36</td>\n",
       "      <td>0.11</td>\n",
       "      <td>150.56</td>\n",
       "      <td>4.44</td>\n",
       "      <td>0.60</td>\n",
       "      <td>2.79</td>\n",
       "      <td>13.51</td>\n",
       "      <td>106.43</td>\n",
       "    </tr>\n",
       "    <tr>\n",
       "      <th>std</th>\n",
       "      <td>1138.29</td>\n",
       "      <td>0.47</td>\n",
       "      <td>55.31</td>\n",
       "      <td>2.5</td>\n",
       "      <td>2.28</td>\n",
       "      <td>3.04</td>\n",
       "      <td>62.34</td>\n",
       "      <td>0.33</td>\n",
       "      <td>1.55</td>\n",
       "      <td>0.43</td>\n",
       "      <td>0.45</td>\n",
       "      <td>0.58</td>\n",
       "      <td>0.53</td>\n",
       "      <td>13.57</td>\n",
       "      <td>2.32</td>\n",
       "      <td>2.74</td>\n",
       "      <td>0.48</td>\n",
       "      <td>0.32</td>\n",
       "      <td>49.45</td>\n",
       "      <td>1.55</td>\n",
       "      <td>0.64</td>\n",
       "      <td>0.76</td>\n",
       "      <td>2.33</td>\n",
       "      <td>181.01</td>\n",
       "    </tr>\n",
       "    <tr>\n",
       "      <th>min</th>\n",
       "      <td>131.00</td>\n",
       "      <td>0.00</td>\n",
       "      <td>11.00</td>\n",
       "      <td>1.0</td>\n",
       "      <td>1.00</td>\n",
       "      <td>1.00</td>\n",
       "      <td>10.33</td>\n",
       "      <td>0.00</td>\n",
       "      <td>0.00</td>\n",
       "      <td>0.00</td>\n",
       "      <td>0.00</td>\n",
       "      <td>4.00</td>\n",
       "      <td>0.00</td>\n",
       "      <td>0.00</td>\n",
       "      <td>0.00</td>\n",
       "      <td>0.00</td>\n",
       "      <td>0.00</td>\n",
       "      <td>0.00</td>\n",
       "      <td>33.40</td>\n",
       "      <td>1.00</td>\n",
       "      <td>0.00</td>\n",
       "      <td>1.00</td>\n",
       "      <td>5.00</td>\n",
       "      <td>0.00</td>\n",
       "    </tr>\n",
       "    <tr>\n",
       "      <th>25%</th>\n",
       "      <td>1350.00</td>\n",
       "      <td>0.00</td>\n",
       "      <td>39.00</td>\n",
       "      <td>3.0</td>\n",
       "      <td>5.00</td>\n",
       "      <td>3.00</td>\n",
       "      <td>72.00</td>\n",
       "      <td>1.00</td>\n",
       "      <td>0.00</td>\n",
       "      <td>0.00</td>\n",
       "      <td>0.00</td>\n",
       "      <td>5.00</td>\n",
       "      <td>1.00</td>\n",
       "      <td>1.00</td>\n",
       "      <td>0.00</td>\n",
       "      <td>1.00</td>\n",
       "      <td>0.00</td>\n",
       "      <td>0.00</td>\n",
       "      <td>114.40</td>\n",
       "      <td>3.00</td>\n",
       "      <td>0.00</td>\n",
       "      <td>2.00</td>\n",
       "      <td>12.00</td>\n",
       "      <td>0.00</td>\n",
       "    </tr>\n",
       "    <tr>\n",
       "      <th>50%</th>\n",
       "      <td>1740.00</td>\n",
       "      <td>1.00</td>\n",
       "      <td>60.00</td>\n",
       "      <td>5.0</td>\n",
       "      <td>7.00</td>\n",
       "      <td>5.00</td>\n",
       "      <td>94.16</td>\n",
       "      <td>1.00</td>\n",
       "      <td>1.00</td>\n",
       "      <td>0.00</td>\n",
       "      <td>1.00</td>\n",
       "      <td>6.00</td>\n",
       "      <td>1.00</td>\n",
       "      <td>7.00</td>\n",
       "      <td>0.00</td>\n",
       "      <td>2.00</td>\n",
       "      <td>0.00</td>\n",
       "      <td>0.00</td>\n",
       "      <td>145.60</td>\n",
       "      <td>4.00</td>\n",
       "      <td>1.00</td>\n",
       "      <td>3.00</td>\n",
       "      <td>13.00</td>\n",
       "      <td>0.00</td>\n",
       "    </tr>\n",
       "    <tr>\n",
       "      <th>75%</th>\n",
       "      <td>2670.00</td>\n",
       "      <td>1.00</td>\n",
       "      <td>95.00</td>\n",
       "      <td>7.0</td>\n",
       "      <td>8.00</td>\n",
       "      <td>8.00</td>\n",
       "      <td>117.29</td>\n",
       "      <td>1.00</td>\n",
       "      <td>2.00</td>\n",
       "      <td>0.00</td>\n",
       "      <td>1.00</td>\n",
       "      <td>6.00</td>\n",
       "      <td>2.00</td>\n",
       "      <td>13.00</td>\n",
       "      <td>3.00</td>\n",
       "      <td>4.00</td>\n",
       "      <td>1.00</td>\n",
       "      <td>0.00</td>\n",
       "      <td>173.78</td>\n",
       "      <td>5.00</td>\n",
       "      <td>1.00</td>\n",
       "      <td>3.00</td>\n",
       "      <td>15.00</td>\n",
       "      <td>174.00</td>\n",
       "    </tr>\n",
       "    <tr>\n",
       "      <th>max</th>\n",
       "      <td>8793.75</td>\n",
       "      <td>1.00</td>\n",
       "      <td>493.00</td>\n",
       "      <td>19.0</td>\n",
       "      <td>18.00</td>\n",
       "      <td>10.00</td>\n",
       "      <td>1645.60</td>\n",
       "      <td>1.00</td>\n",
       "      <td>13.00</td>\n",
       "      <td>3.00</td>\n",
       "      <td>1.00</td>\n",
       "      <td>7.00</td>\n",
       "      <td>3.00</td>\n",
       "      <td>52.00</td>\n",
       "      <td>9.00</td>\n",
       "      <td>19.00</td>\n",
       "      <td>1.00</td>\n",
       "      <td>1.00</td>\n",
       "      <td>564.20</td>\n",
       "      <td>11.00</td>\n",
       "      <td>3.00</td>\n",
       "      <td>5.00</td>\n",
       "      <td>19.00</td>\n",
       "      <td>1600.00</td>\n",
       "    </tr>\n",
       "  </tbody>\n",
       "</table>\n",
       "</div>"
      ],
      "text/plain": [
       "       REVENUE  CROSS_SELL_SUCCESS  TOTAL_MEALS_ORDERED  UNIQUE_MEALS_PURCH  CONTACTS_W_CUSTOMER_SERVICE  PRODUCT_CATEGORIES_VIEWED  AVG_TIME_PER_SITE_VISIT  MOBILE_NUMBER  CANCELLATIONS_BEFORE_NOON  CANCELLATIONS_AFTER_NOON  TASTES_AND_PREFERENCES  PC_LOGINS  MOBILE_LOGINS  WEEKLY_PLAN  EARLY_DELIVERIES  LATE_DELIVERIES  PACKAGE_LOCKER  REFRIGERATED_LOCKER  AVG_PREP_VID_TIME  LARGEST_ORDER_SIZE  MASTER_CLASSES_ATTENDED  MEDIAN_MEAL_RATING  AVG_CLICKS_PER_VISIT  TOTAL_PHOTOS_VIEWED\n",
       "count  1946.00             1946.00              1946.00              1946.0                      1946.00                    1946.00                  1946.00        1946.00                    1946.00                   1946.00                 1946.00    1946.00        1946.00      1946.00           1946.00          1946.00         1946.00              1946.00            1946.00             1946.00                  1946.00             1946.00               1946.00              1946.00\n",
       "mean   2107.29                0.68                74.63                 4.9                         6.98                       5.38                    99.60           0.88                       1.40                      0.17                    0.71       5.52           1.48        11.33              1.49             2.97            0.36                 0.11             150.56                4.44                     0.60                2.79                 13.51               106.43\n",
       "std    1138.29                0.47                55.31                 2.5                         2.28                       3.04                    62.34           0.33                       1.55                      0.43                    0.45       0.58           0.53        13.57              2.32             2.74            0.48                 0.32              49.45                1.55                     0.64                0.76                  2.33               181.01\n",
       "min     131.00                0.00                11.00                 1.0                         1.00                       1.00                    10.33           0.00                       0.00                      0.00                    0.00       4.00           0.00         0.00              0.00             0.00            0.00                 0.00              33.40                1.00                     0.00                1.00                  5.00                 0.00\n",
       "25%    1350.00                0.00                39.00                 3.0                         5.00                       3.00                    72.00           1.00                       0.00                      0.00                    0.00       5.00           1.00         1.00              0.00             1.00            0.00                 0.00             114.40                3.00                     0.00                2.00                 12.00                 0.00\n",
       "50%    1740.00                1.00                60.00                 5.0                         7.00                       5.00                    94.16           1.00                       1.00                      0.00                    1.00       6.00           1.00         7.00              0.00             2.00            0.00                 0.00             145.60                4.00                     1.00                3.00                 13.00                 0.00\n",
       "75%    2670.00                1.00                95.00                 7.0                         8.00                       8.00                   117.29           1.00                       2.00                      0.00                    1.00       6.00           2.00        13.00              3.00             4.00            1.00                 0.00             173.78                5.00                     1.00                3.00                 15.00               174.00\n",
       "max    8793.75                1.00               493.00                19.0                        18.00                      10.00                  1645.60           1.00                      13.00                      3.00                    1.00       7.00           3.00        52.00              9.00            19.00            1.00                 1.00             564.20               11.00                     3.00                5.00                 19.00              1600.00"
      ]
     },
     "execution_count": 16,
     "metadata": {},
     "output_type": "execute_result"
    }
   ],
   "source": [
    "# descriptive statistics for numeric data\n",
    "apprentice_df.describe(include = 'number').round(decimals = 2)"
   ]
  },
  {
   "cell_type": "markdown",
   "metadata": {},
   "source": [
    "After exploring quantitative columns, I am going to group my variables based on their data types."
   ]
  },
  {
   "cell_type": "code",
   "execution_count": 17,
   "metadata": {},
   "outputs": [
    {
     "ename": "SyntaxError",
     "evalue": "invalid syntax (<ipython-input-17-fef18c8f4114>, line 2)",
     "output_type": "error",
     "traceback": [
      "\u001b[0;36m  File \u001b[0;32m\"<ipython-input-17-fef18c8f4114>\"\u001b[0;36m, line \u001b[0;32m2\u001b[0m\n\u001b[0;31m    -----------\u001b[0m\n\u001b[0m               ^\u001b[0m\n\u001b[0;31mSyntaxError\u001b[0m\u001b[0;31m:\u001b[0m invalid syntax\n"
     ]
    }
   ],
   "source": [
    "Continuous\n",
    "-----------\n",
    "REVENUE (Y-variable)\n",
    "AVG_TIME_PER_SITE_VISIT\n",
    "AVG_PREP_VID_TIME\n",
    "TOTAL_MEALS_ORDERED \n",
    "\n",
    "\n",
    "Interval/Count\n",
    "--------------       \n",
    "UNIQUE_MEALS_PURCH \n",
    "CONTACTS_W_CUSTOMER_SERVICE   \n",
    "PRODUCT_CATEGORIES_VIEWED\n",
    "CANCELLATIONS_BEFORE_NOON\n",
    "CANCELLATIONS_AFTER_NOON\n",
    "PC_LOGINS\n",
    "MOBILE_LOGINS\n",
    "WEEKLY_PLAN\n",
    "EARLY_DELIVERIES\n",
    "LATE_DELIVERIES\n",
    "LARGEST_ORDER_SIZE\n",
    "MASTER_CLASSES_ATTENDED\n",
    "MEDIAN_MEAL_RATING\n",
    "AVG_CLICKS_PER_VISIT\n",
    "TOTAL_PHOTOS_VIEWED\n",
    "\n",
    "\n",
    "Categorical\n",
    "-----------\n",
    "NAME \n",
    "EMAIL                        \n",
    "FIRST_NAME                 \n",
    "FAMILY_NAME \n",
    "\n",
    "\n",
    "Binary\n",
    "-----------\n",
    "CROSS_SELL_SUCCESS\n",
    "TASTES_AND_PREFERENCES\n",
    "MOBILE_NUMBER\n",
    "PACKAGE_LOCKER\n",
    "REFRIGERATED_LOCKER"
   ]
  },
  {
   "cell_type": "markdown",
   "metadata": {},
   "source": [
    "I am going to create lists of features based on their data types for further use."
   ]
  },
  {
   "cell_type": "code",
   "execution_count": 18,
   "metadata": {
    "scrolled": true
   },
   "outputs": [],
   "source": [
    "# creating a list of continuous features (including Revenue)\n",
    "continuous_data = ['REVENUE', 'AVG_TIME_PER_SITE_VISIT', 'AVG_PREP_VID_TIME', 'TOTAL_MEALS_ORDERED']\n",
    "\n",
    "# creating a list of count/interval features \n",
    "count_data = ['REVENUE', 'UNIQUE_MEALS_PURCH', 'CONTACTS_W_CUSTOMER_SERVICE',\n",
    "                   'PRODUCT_CATEGORIES_VIEWED', 'CANCELLATIONS_BEFORE_NOON', 'CANCELLATIONS_AFTER_NOON',\n",
    "                   'PC_LOGINS', 'MOBILE_LOGINS', 'WEEKLY_PLAN', 'EARLY_DELIVERIES', 'LATE_DELIVERIES', \n",
    "                   'LARGEST_ORDER_SIZE', 'MASTER_CLASSES_ATTENDED', 'MEDIAN_MEAL_RATING', \n",
    "                   'AVG_CLICKS_PER_VISIT', 'TOTAL_PHOTOS_VIEWED']\n",
    "\n",
    "# creating a list of binary features \n",
    "binary_data = ['REVENUE','CROSS_SELL_SUCCESS', 'TASTES_AND_PREFERENCES', 'MOBILE_NUMBER',\n",
    "                   'PACKAGE_LOCKER', 'REFRIGERATED_LOCKER']"
   ]
  },
  {
   "cell_type": "markdown",
   "metadata": {},
   "source": [
    "## Correlations and Initial Base Model Development\n",
    "\n",
    "I am going to develop a very basic linear model based on the feature correlations with revenue, so that later I can observe the predictive value of the steps I skipped."
   ]
  },
  {
   "cell_type": "code",
   "execution_count": 19,
   "metadata": {},
   "outputs": [
    {
     "data": {
      "text/plain": [
       "REVENUE                    1.00\n",
       "AVG_PREP_VID_TIME          0.64\n",
       "TOTAL_MEALS_ORDERED        0.60\n",
       "AVG_TIME_PER_SITE_VISIT    0.14\n",
       "Name: REVENUE, dtype: float64"
      ]
     },
     "execution_count": 19,
     "metadata": {},
     "output_type": "execute_result"
    }
   ],
   "source": [
    "# developing a correlation matrix based on continuous features\n",
    "continuous_corr = apprentice_df[continuous_data].corr(method = 'pearson')\n",
    "# filtering the results to only show correlations with Revenue\n",
    "continuous_corr.loc[ : , 'REVENUE'].round(decimals = 2).sort_values(ascending = False)"
   ]
  },
  {
   "cell_type": "code",
   "execution_count": 20,
   "metadata": {},
   "outputs": [
    {
     "data": {
      "text/plain": [
       "REVENUE                        1.00\n",
       "MEDIAN_MEAL_RATING             0.61\n",
       "TOTAL_PHOTOS_VIEWED            0.47\n",
       "MASTER_CLASSES_ATTENDED        0.45\n",
       "LARGEST_ORDER_SIZE             0.44\n",
       "CONTACTS_W_CUSTOMER_SERVICE    0.10\n",
       "PRODUCT_CATEGORIES_VIEWED      0.03\n",
       "PC_LOGINS                      0.02\n",
       "WEEKLY_PLAN                    0.01\n",
       "CANCELLATIONS_BEFORE_NOON      0.01\n",
       "EARLY_DELIVERIES              -0.00\n",
       "LATE_DELIVERIES               -0.01\n",
       "MOBILE_LOGINS                 -0.02\n",
       "CANCELLATIONS_AFTER_NOON      -0.04\n",
       "UNIQUE_MEALS_PURCH            -0.06\n",
       "AVG_CLICKS_PER_VISIT          -0.55\n",
       "Name: REVENUE, dtype: float64"
      ]
     },
     "execution_count": 20,
     "metadata": {},
     "output_type": "execute_result"
    }
   ],
   "source": [
    "# developing a correlation matrix based on count/interval features\n",
    "count_corr = apprentice_df[count_data].corr(method = 'pearson')\n",
    "# filtering the results to only show correlations with Revenue\n",
    "count_corr.loc[ : , 'REVENUE'].round(decimals = 2).sort_values(ascending = False)"
   ]
  },
  {
   "cell_type": "code",
   "execution_count": 21,
   "metadata": {},
   "outputs": [
    {
     "data": {
      "text/plain": [
       "REVENUE                   1.00\n",
       "MOBILE_NUMBER             0.03\n",
       "TASTES_AND_PREFERENCES    0.01\n",
       "REFRIGERATED_LOCKER      -0.00\n",
       "CROSS_SELL_SUCCESS        0.00\n",
       "PACKAGE_LOCKER           -0.01\n",
       "Name: REVENUE, dtype: float64"
      ]
     },
     "execution_count": 21,
     "metadata": {},
     "output_type": "execute_result"
    }
   ],
   "source": [
    "# developing a correlation matrix based on binary features\n",
    "binary_corr = apprentice_df[binary_data].corr(method = 'pearson')\n",
    "# filtering the results to only show correlations with Revenue\n",
    "binary_corr.loc[ : , 'REVENUE'].round(decimals = 2).sort_values(ascending = False)"
   ]
  },
  {
   "cell_type": "markdown",
   "metadata": {},
   "source": [
    "I am going to build initial base model using the highest correlated columns."
   ]
  },
  {
   "cell_type": "code",
   "execution_count": 22,
   "metadata": {},
   "outputs": [
    {
     "name": "stdout",
     "output_type": "stream",
     "text": [
      "                            OLS Regression Results                            \n",
      "==============================================================================\n",
      "Dep. Variable:                REVENUE   R-squared:                       0.616\n",
      "Model:                            OLS   Adj. R-squared:                  0.614\n",
      "Method:                 Least Squares   F-statistic:                     443.8\n",
      "Date:                Wed, 27 Jan 2021   Prob (F-statistic):               0.00\n",
      "Time:                        23:08:08   Log-Likelihood:                -15525.\n",
      "No. Observations:                1946   AIC:                         3.107e+04\n",
      "Df Residuals:                    1938   BIC:                         3.111e+04\n",
      "Df Model:                           7                                         \n",
      "Covariance Type:            nonrobust                                         \n",
      "===============================================================================================\n",
      "                                  coef    std err          t      P>|t|      [0.025      0.975]\n",
      "-----------------------------------------------------------------------------------------------\n",
      "Intercept                    -812.2613     88.404     -9.188      0.000    -985.639    -638.884\n",
      "AVG_PREP_VID_TIME               9.2434      0.642     14.390      0.000       7.984      10.503\n",
      "TOTAL_MEALS_ORDERED             5.1907      0.358     14.485      0.000       4.488       5.893\n",
      "MEDIAN_MEAL_RATING            395.8957     26.132     15.150      0.000     344.647     447.145\n",
      "TOTAL_PHOTOS_VIEWED             0.7249      0.102      7.136      0.000       0.526       0.924\n",
      "LARGEST_ORDER_SIZE            -98.7283     17.520     -5.635      0.000    -133.089     -64.368\n",
      "CONTACTS_W_CUSTOMER_SERVICE    42.1357      7.142      5.900      0.000      28.129      56.143\n",
      "MASTER_CLASSES_ATTENDED       166.5835     29.055      5.733      0.000     109.601     223.566\n",
      "==============================================================================\n",
      "Omnibus:                      826.298   Durbin-Watson:                   2.013\n",
      "Prob(Omnibus):                  0.000   Jarque-Bera (JB):            10292.168\n",
      "Skew:                           1.648   Prob(JB):                         0.00\n",
      "Kurtosis:                      13.774   Cond. No.                     1.39e+03\n",
      "==============================================================================\n",
      "\n",
      "Warnings:\n",
      "[1] Standard Errors assume that the covariance matrix of the errors is correctly specified.\n",
      "[2] The condition number is large, 1.39e+03. This might indicate that there are\n",
      "strong multicollinearity or other numerical problems.\n"
     ]
    }
   ],
   "source": [
    "# Step 1: INSTANTIATE a model object (base model)\n",
    "lm_base = smf.ols(formula =  \"\"\"REVENUE ~ AVG_PREP_VID_TIME +\n",
    "                                             TOTAL_MEALS_ORDERED +\n",
    "                                             MEDIAN_MEAL_RATING +\n",
    "                                             TOTAL_PHOTOS_VIEWED +\n",
    "                                             LARGEST_ORDER_SIZE +\n",
    "                                             CONTACTS_W_CUSTOMER_SERVICE  +\n",
    "                                             MASTER_CLASSES_ATTENDED\n",
    "                                             \"\"\",\n",
    "                                data = apprentice_df)\n",
    "\n",
    "\n",
    "# Step 2: FIT the data into the model object\n",
    "results = lm_base.fit()\n",
    "\n",
    "\n",
    "# Step 3: analyze the SUMMARY output\n",
    "print(results.summary())"
   ]
  },
  {
   "cell_type": "markdown",
   "metadata": {},
   "source": [
    "To get a better Adj R-sqrd value, I will use log transformation for revenue due to the skewness in the histogram."
   ]
  },
  {
   "cell_type": "code",
   "execution_count": 23,
   "metadata": {},
   "outputs": [
    {
     "data": {
      "image/png": "[encoded data removed]",
      "text/plain": [
       "<Figure size 720x360 with 1 Axes>"
      ]
     },
     "metadata": {
      "needs_background": "light"
     },
     "output_type": "display_data"
    }
   ],
   "source": [
    "# I coded this while you were in breakout rooms\n",
    "sns.displot(data = apprentice_df,\n",
    "            x = 'REVENUE',\n",
    "            height = 5,\n",
    "            aspect = 2,\n",
    "            color = 'pink')\n",
    "\n",
    "plt.show()"
   ]
  },
  {
   "cell_type": "code",
   "execution_count": 24,
   "metadata": {},
   "outputs": [],
   "source": [
    "# log transforming Sale_Price and saving it to the dataset\n",
    "apprentice_df['log_REVENUE'] = np.log10(apprentice_df['REVENUE'])"
   ]
  },
  {
   "cell_type": "markdown",
   "metadata": {},
   "source": [
    "We reached to a better normal distribution for revenue by using log transformation."
   ]
  },
  {
   "cell_type": "code",
   "execution_count": 25,
   "metadata": {},
   "outputs": [
    {
     "data": {
      "image/png": "[encoded data removed]",
      "text/plain": [
       "<Figure size 720x360 with 1 Axes>"
      ]
     },
     "metadata": {
      "needs_background": "light"
     },
     "output_type": "display_data"
    }
   ],
   "source": [
    "sns.displot(data = apprentice_df,\n",
    "            x = 'log_REVENUE',\n",
    "            height = 5,\n",
    "            aspect = 2,\n",
    "            color = 'pink')\n",
    "\n",
    "plt.show()"
   ]
  },
  {
   "cell_type": "code",
   "execution_count": 26,
   "metadata": {},
   "outputs": [
    {
     "name": "stdout",
     "output_type": "stream",
     "text": [
      "                            OLS Regression Results                            \n",
      "==============================================================================\n",
      "Dep. Variable:            log_REVENUE   R-squared:                       0.640\n",
      "Model:                            OLS   Adj. R-squared:                  0.639\n",
      "Method:                 Least Squares   F-statistic:                     491.8\n",
      "Date:                Wed, 27 Jan 2021   Prob (F-statistic):               0.00\n",
      "Time:                        23:08:10   Log-Likelihood:                 1253.2\n",
      "No. Observations:                1946   AIC:                            -2490.\n",
      "Df Residuals:                    1938   BIC:                            -2446.\n",
      "Df Model:                           7                                         \n",
      "Covariance Type:            nonrobust                                         \n",
      "===============================================================================================\n",
      "                                  coef    std err          t      P>|t|      [0.025      0.975]\n",
      "-----------------------------------------------------------------------------------------------\n",
      "Intercept                       2.7765      0.016    174.321      0.000       2.745       2.808\n",
      "AVG_PREP_VID_TIME               0.0017      0.000     14.937      0.000       0.002       0.002\n",
      "TOTAL_MEALS_ORDERED             0.0009   6.46e-05     14.141      0.000       0.001       0.001\n",
      "MEDIAN_MEAL_RATING              0.0887      0.005     18.846      0.000       0.079       0.098\n",
      "TOTAL_PHOTOS_VIEWED          8.981e-05   1.83e-05      4.907      0.000    5.39e-05       0.000\n",
      "LARGEST_ORDER_SIZE             -0.0185      0.003     -5.860      0.000      -0.025      -0.012\n",
      "CONTACTS_W_CUSTOMER_SERVICE    -0.0046      0.001     -3.543      0.000      -0.007      -0.002\n",
      "MASTER_CLASSES_ATTENDED         0.0362      0.005      6.912      0.000       0.026       0.046\n",
      "==============================================================================\n",
      "Omnibus:                      192.178   Durbin-Watson:                   2.054\n",
      "Prob(Omnibus):                  0.000   Jarque-Bera (JB):             1387.550\n",
      "Skew:                          -0.090   Prob(JB):                    4.98e-302\n",
      "Kurtosis:                       7.133   Cond. No.                     1.39e+03\n",
      "==============================================================================\n",
      "\n",
      "Warnings:\n",
      "[1] Standard Errors assume that the covariance matrix of the errors is correctly specified.\n",
      "[2] The condition number is large, 1.39e+03. This might indicate that there are\n",
      "strong multicollinearity or other numerical problems.\n"
     ]
    }
   ],
   "source": [
    "# Step 1: INSTANTIATE a model object (base model)\n",
    "lm_base = smf.ols(formula =  \"\"\"log_REVENUE ~ AVG_PREP_VID_TIME +\n",
    "                                             TOTAL_MEALS_ORDERED +\n",
    "                                             MEDIAN_MEAL_RATING +\n",
    "                                             TOTAL_PHOTOS_VIEWED +\n",
    "                                             LARGEST_ORDER_SIZE +\n",
    "                                             CONTACTS_W_CUSTOMER_SERVICE  +\n",
    "                                             MASTER_CLASSES_ATTENDED\n",
    "                                             \"\"\",\n",
    "                                data = apprentice_df)\n",
    "\n",
    "\n",
    "# Step 2: FIT the data into the model object\n",
    "results = lm_base.fit()\n",
    "\n",
    "\n",
    "# Step 3: analyze the SUMMARY output\n",
    "print(results.summary())"
   ]
  },
  {
   "cell_type": "markdown",
   "metadata": {},
   "source": [
    "Slight improvement for Adj R-square can be seen after doing log transformation for revenue. Yet, we will get into feature engineering for better results."
   ]
  },
  {
   "cell_type": "markdown",
   "metadata": {},
   "source": [
    "## Feature Engineering\n",
    "Feature Engineering is to help to boost the performance of the model. By the help of steps I take in the feature engineering, I will create series of new features out of the data that I currently have which is going to rise the model accuracy.\n",
    "### Missing Value Analysis and Imputation"
   ]
  },
  {
   "cell_type": "markdown",
   "metadata": {},
   "source": [
    "Starting feature engineering by writing a code to check missing values in the dataset."
   ]
  },
  {
   "cell_type": "code",
   "execution_count": 27,
   "metadata": {},
   "outputs": [
    {
     "data": {
      "text/plain": [
       "REVENUE                         0\n",
       "CROSS_SELL_SUCCESS              0\n",
       "NAME                            0\n",
       "EMAIL                           0\n",
       "FIRST_NAME                      0\n",
       "FAMILY_NAME                    47\n",
       "TOTAL_MEALS_ORDERED             0\n",
       "UNIQUE_MEALS_PURCH              0\n",
       "CONTACTS_W_CUSTOMER_SERVICE     0\n",
       "PRODUCT_CATEGORIES_VIEWED       0\n",
       "AVG_TIME_PER_SITE_VISIT         0\n",
       "MOBILE_NUMBER                   0\n",
       "CANCELLATIONS_BEFORE_NOON       0\n",
       "CANCELLATIONS_AFTER_NOON        0\n",
       "TASTES_AND_PREFERENCES          0\n",
       "PC_LOGINS                       0\n",
       "MOBILE_LOGINS                   0\n",
       "WEEKLY_PLAN                     0\n",
       "EARLY_DELIVERIES                0\n",
       "LATE_DELIVERIES                 0\n",
       "PACKAGE_LOCKER                  0\n",
       "REFRIGERATED_LOCKER             0\n",
       "AVG_PREP_VID_TIME               0\n",
       "LARGEST_ORDER_SIZE              0\n",
       "MASTER_CLASSES_ATTENDED         0\n",
       "MEDIAN_MEAL_RATING              0\n",
       "AVG_CLICKS_PER_VISIT            0\n",
       "TOTAL_PHOTOS_VIEWED             0\n",
       "log_REVENUE                     0\n",
       "dtype: int64"
      ]
     },
     "execution_count": 27,
     "metadata": {},
     "output_type": "execute_result"
    }
   ],
   "source": [
    "# checking missing values per column\n",
    "apprentice_df.isnull().sum(axis = 0)"
   ]
  },
  {
   "cell_type": "markdown",
   "metadata": {},
   "source": [
    "There is only one categorical column with missing values. Since Family Name doesn't seem to be strongly related to revenue, imputing at \"None\" would be appropriate."
   ]
  },
  {
   "cell_type": "code",
   "execution_count": 28,
   "metadata": {},
   "outputs": [],
   "source": [
    "fill = 'None'\n",
    "# imputing 'FAMILY_NAME'\n",
    "apprentice_df['FAMILY_NAME'] = apprentice_df['FAMILY_NAME'].fillna(fill)"
   ]
  },
  {
   "cell_type": "code",
   "execution_count": 29,
   "metadata": {
    "code_folding": []
   },
   "outputs": [
    {
     "data": {
      "text/plain": [
       "False"
      ]
     },
     "execution_count": 29,
     "metadata": {},
     "output_type": "execute_result"
    }
   ],
   "source": [
    "# making sure all missing values have been taken care of\n",
    "apprentice_df.isnull().any(axis = 0).any(axis = 0)"
   ]
  },
  {
   "cell_type": "markdown",
   "metadata": {},
   "source": [
    "### Working With Emails"
   ]
  },
  {
   "cell_type": "markdown",
   "metadata": {},
   "source": [
    "Next I will work on email column to generalize each column to identify patterns and trends."
   ]
  },
  {
   "cell_type": "code",
   "execution_count": 30,
   "metadata": {
    "scrolled": true
   },
   "outputs": [
    {
     "data": {
      "text/html": [
       "<div>\n",
       "<style scoped>\n",
       "    .dataframe tbody tr th:only-of-type {\n",
       "        vertical-align: middle;\n",
       "    }\n",
       "\n",
       "    .dataframe tbody tr th {\n",
       "        vertical-align: top;\n",
       "    }\n",
       "\n",
       "    .dataframe thead th {\n",
       "        text-align: right;\n",
       "    }\n",
       "</style>\n",
       "<table border=\"1\" class=\"dataframe\">\n",
       "  <thead>\n",
       "    <tr style=\"text-align: right;\">\n",
       "      <th></th>\n",
       "      <th>0</th>\n",
       "      <th>1</th>\n",
       "    </tr>\n",
       "  </thead>\n",
       "  <tbody>\n",
       "    <tr>\n",
       "      <th>0</th>\n",
       "      <td>saathos</td>\n",
       "      <td>unitedhealth.com</td>\n",
       "    </tr>\n",
       "    <tr>\n",
       "      <th>1</th>\n",
       "      <td>alysanne.osgrey</td>\n",
       "      <td>ge.org</td>\n",
       "    </tr>\n",
       "    <tr>\n",
       "      <th>2</th>\n",
       "      <td>edwyd.fossoway</td>\n",
       "      <td>jnj.com</td>\n",
       "    </tr>\n",
       "    <tr>\n",
       "      <th>3</th>\n",
       "      <td>eleyna.westerling</td>\n",
       "      <td>ge.org</td>\n",
       "    </tr>\n",
       "    <tr>\n",
       "      <th>4</th>\n",
       "      <td>elyn.norridge</td>\n",
       "      <td>jnj.com</td>\n",
       "    </tr>\n",
       "    <tr>\n",
       "      <th>...</th>\n",
       "      <td>...</td>\n",
       "      <td>...</td>\n",
       "    </tr>\n",
       "    <tr>\n",
       "      <th>1941</th>\n",
       "      <td>obara.sand</td>\n",
       "      <td>yahoo.com</td>\n",
       "    </tr>\n",
       "    <tr>\n",
       "      <th>1942</th>\n",
       "      <td>quentyn.blackwood</td>\n",
       "      <td>yahoo.com</td>\n",
       "    </tr>\n",
       "    <tr>\n",
       "      <th>1943</th>\n",
       "      <td>rhonda.rowan</td>\n",
       "      <td>gmail.com</td>\n",
       "    </tr>\n",
       "    <tr>\n",
       "      <th>1944</th>\n",
       "      <td>turnip</td>\n",
       "      <td>yahoo.com</td>\n",
       "    </tr>\n",
       "    <tr>\n",
       "      <th>1945</th>\n",
       "      <td>tommard.heddle</td>\n",
       "      <td>merck.com</td>\n",
       "    </tr>\n",
       "  </tbody>\n",
       "</table>\n",
       "<p>1946 rows × 2 columns</p>\n",
       "</div>"
      ],
      "text/plain": [
       "                      0                 1\n",
       "0               saathos  unitedhealth.com\n",
       "1       alysanne.osgrey            ge.org\n",
       "2        edwyd.fossoway           jnj.com\n",
       "3     eleyna.westerling            ge.org\n",
       "4         elyn.norridge           jnj.com\n",
       "...                 ...               ...\n",
       "1941         obara.sand         yahoo.com\n",
       "1942  quentyn.blackwood         yahoo.com\n",
       "1943       rhonda.rowan         gmail.com\n",
       "1944             turnip         yahoo.com\n",
       "1945     tommard.heddle         merck.com\n",
       "\n",
       "[1946 rows x 2 columns]"
      ]
     },
     "execution_count": 30,
     "metadata": {},
     "output_type": "execute_result"
    }
   ],
   "source": [
    "# STEP 1: splitting emails\n",
    "# placeholder list\n",
    "placeholder_lst = []\n",
    "\n",
    "# looping over each email address\n",
    "for index, col in apprentice_df.iterrows():\n",
    "    \n",
    "    # splitting email domain at '@'\n",
    "    split_email = apprentice_df.loc[index, 'EMAIL'].split(sep = '@')\n",
    "    \n",
    "    # appending placeholder_lst with the results\n",
    "    placeholder_lst.append(split_email)\n",
    "\n",
    "# converting placeholder_lst into a DataFrame \n",
    "email_df = pd.DataFrame(placeholder_lst)\n",
    "#printing the split dataset\n",
    "email_df"
   ]
  },
  {
   "cell_type": "markdown",
   "metadata": {},
   "source": [
    "Printing value counts for each domain."
   ]
  },
  {
   "cell_type": "code",
   "execution_count": 31,
   "metadata": {},
   "outputs": [
    {
     "data": {
      "text/plain": [
       "amex.com             30\n",
       "aol.com              69\n",
       "apple.com            27\n",
       "boeing.com           23\n",
       "caterpillar.com      22\n",
       "chevron.com          25\n",
       "cisco.com            18\n",
       "cocacola.com         28\n",
       "disney.com           21\n",
       "dupont.com           26\n",
       "exxon.com            24\n",
       "ge.org               26\n",
       "gmail.com           303\n",
       "goldmansacs.com      18\n",
       "homedepot.com        17\n",
       "hotmail.com          63\n",
       "ibm.com              26\n",
       "intel.com            17\n",
       "jnj.com              28\n",
       "jpmorgan.com         19\n",
       "live.com             62\n",
       "mcdonalds.com        28\n",
       "me.com               59\n",
       "merck.com            28\n",
       "microsoft.com        25\n",
       "mmm.com              22\n",
       "msn.com              72\n",
       "nike.com             27\n",
       "passport.com         64\n",
       "pfizer.com           20\n",
       "pg.com               22\n",
       "protonmail.com      284\n",
       "travelers.com        24\n",
       "unitedhealth.com     24\n",
       "unitedtech.com       18\n",
       "verizon.com          22\n",
       "visa.com             20\n",
       "walmart.com          21\n",
       "yahoo.com           274\n",
       "Name: 1, dtype: int64"
      ]
     },
     "execution_count": 31,
     "metadata": {},
     "output_type": "execute_result"
    }
   ],
   "source": [
    "email_df[1].value_counts().sort_index()"
   ]
  },
  {
   "cell_type": "markdown",
   "metadata": {},
   "source": [
    "Below code groups all email observations according to email domains. Domain groups created based on the table given in the case."
   ]
  },
  {
   "cell_type": "code",
   "execution_count": 32,
   "metadata": {},
   "outputs": [
    {
     "data": {
      "text/plain": [
       "PERSONAL        861\n",
       "PROFESSIONAL    696\n",
       "SPAM            389\n",
       "Name: domain_group, dtype: int64"
      ]
     },
     "execution_count": 32,
     "metadata": {},
     "output_type": "execute_result"
    }
   ],
   "source": [
    "#Setting Personal, Professional and Spam Emails\n",
    "personal_emails      = ['@gmail.com','@yahoo.com','@protonmail.com']\n",
    "\n",
    "professional_emails  = ['@mmm.com','@amex.com','@apple.com','@boeing.com','@caterpillar.com','@chevron.com',\n",
    "                        '@cisco.com','@cocacola.com','@disney.com','@dupont.com','@exxon.com','@ge.org',\n",
    "                        '@goldmansacs.com','@homedepot.com','@ibm.com','@intel.com','@jnj.com','@jpmorgan.com',\n",
    "                        '@mcdonalds.com','@merck.com','@microsoft.com','@nike.com','@pfizer.com','@pg.com',\n",
    "                        '@travelers.com','@unitedtech.com','@unitedhealth.com','@verizon.com','@visa.com','@walmart.com']\n",
    "\n",
    "spam_emails       = ['@me.com','@aol.com','@hotmail.com','@live.com','@msn.com','@passport.com']\n",
    "\n",
    "# placeholder list\n",
    "placeholder_lst = []\n",
    "\n",
    "# looping to group observations by domain type\n",
    "for domain in email_df[1]:\n",
    "        if '@' + domain in personal_emails:\n",
    "            placeholder_lst.append('PERSONAL')\n",
    "            \n",
    "        elif '@' + domain in professional_emails:\n",
    "            placeholder_lst.append('PROFESSIONAL')\n",
    "           \n",
    "        elif '@' + domain in spam_emails:\n",
    "            placeholder_lst.append('SPAM')\n",
    "            \n",
    "        else:\n",
    "                print('UNKOWN')\n",
    "\n",
    "# concatenating with original DataFrame\n",
    "apprentice_df['domain_group'] = pd.Series(placeholder_lst)\n",
    "\n",
    "# checking results\n",
    "apprentice_df['domain_group'].value_counts()"
   ]
  },
  {
   "cell_type": "markdown",
   "metadata": {},
   "source": [
    "As I grouped emails according to their domain type, I am going to use get dummies function to create new columns with them."
   ]
  },
  {
   "cell_type": "code",
   "execution_count": 33,
   "metadata": {},
   "outputs": [
    {
     "name": "stdout",
     "output_type": "stream",
     "text": [
      "Index(['REVENUE', 'CROSS_SELL_SUCCESS', 'NAME', 'FIRST_NAME', 'FAMILY_NAME', 'TOTAL_MEALS_ORDERED', 'UNIQUE_MEALS_PURCH', 'CONTACTS_W_CUSTOMER_SERVICE', 'PRODUCT_CATEGORIES_VIEWED', 'AVG_TIME_PER_SITE_VISIT', 'MOBILE_NUMBER', 'CANCELLATIONS_BEFORE_NOON', 'CANCELLATIONS_AFTER_NOON', 'TASTES_AND_PREFERENCES', 'PC_LOGINS', 'MOBILE_LOGINS', 'WEEKLY_PLAN', 'EARLY_DELIVERIES', 'LATE_DELIVERIES', 'PACKAGE_LOCKER', 'REFRIGERATED_LOCKER', 'AVG_PREP_VID_TIME', 'LARGEST_ORDER_SIZE',\n",
      "       'MASTER_CLASSES_ATTENDED', 'MEDIAN_MEAL_RATING', 'AVG_CLICKS_PER_VISIT', 'TOTAL_PHOTOS_VIEWED', 'log_REVENUE', 'PERSONAL', 'PROFESSIONAL', 'SPAM'],\n",
      "      dtype='object')\n"
     ]
    }
   ],
   "source": [
    "#Creating dummies for Emails\n",
    "one_hot_email      = pd.get_dummies(apprentice_df['domain_group'])\n",
    "#Dropping EMAIL and domain_group from original_df\n",
    "apprentice_df        = apprentice_df.drop('domain_group', axis = 1)\n",
    "apprentice_df        = apprentice_df.drop('EMAIL', axis = 1)\n",
    "#Joining the dummies to original_df\n",
    "apprentice_df        = apprentice_df.join([one_hot_email])\n",
    "\n",
    "#checking if my new column for email types is actually added to dataframe\n",
    "print(apprentice_df.columns)"
   ]
  },
  {
   "cell_type": "markdown",
   "metadata": {},
   "source": [
    "### Data Visualization and Trend Based Feature Engineering"
   ]
  },
  {
   "cell_type": "markdown",
   "metadata": {},
   "source": [
    "In this section, I will identify trends and tresholds by using data visualization."
   ]
  },
  {
   "cell_type": "markdown",
   "metadata": {},
   "source": [
    "#### Scatterplots\n",
    "Our goal here is to identify where a variable's trend changes in terms of its relationship with what we are trying to predict."
   ]
  },
  {
   "cell_type": "code",
   "execution_count": 34,
   "metadata": {
    "scrolled": true
   },
   "outputs": [
    {
     "data": {
      "image/png": "[encoded data removed]",
      "text/plain": [
       "<Figure size 720x576 with 4 Axes>"
      ]
     },
     "metadata": {
      "needs_background": "light"
     },
     "output_type": "display_data"
    },
    {
     "data": {
      "text/plain": [
       "Text(0.5, 0, 'TOTAL_PHOTOS_VIEWED')"
      ]
     },
     "execution_count": 34,
     "metadata": {},
     "output_type": "execute_result"
    },
    {
     "data": {
      "image/png": "[encoded data removed]",
      "text/plain": [
       "<Figure size 720x576 with 1 Axes>"
      ]
     },
     "metadata": {
      "needs_background": "light"
     },
     "output_type": "display_data"
    }
   ],
   "source": [
    "########################\n",
    "# Visual EDA (Scatterplots)\n",
    "########################\n",
    "\n",
    "fig, ax = plt.subplots(figsize = (10, 8))\n",
    "plt.subplot(2, 2, 1)\n",
    "sns.scatterplot(x = apprentice_df['AVG_PREP_VID_TIME'],\n",
    "                y = apprentice_df['REVENUE'],\n",
    "                color = 'purple')\n",
    "plt.xlabel('AVG_PREP_VID_TIME')\n",
    "\n",
    "########################\n",
    "\n",
    "plt.subplot(2, 2, 2)\n",
    "sns.scatterplot(x = apprentice_df['AVG_TIME_PER_SITE_VISIT'],\n",
    "                y = apprentice_df['REVENUE'],\n",
    "                color = 'r')\n",
    "plt.xlabel('AVG_TIME_PER_SITE_VISIT')\n",
    "\n",
    "########################\n",
    "\n",
    "plt.subplot(2, 2, 3)\n",
    "sns.scatterplot(x = apprentice_df['TOTAL_MEALS_ORDERED'],\n",
    "                y = apprentice_df['REVENUE'],\n",
    "                color = 'orange')\n",
    "plt.xlabel('TOTAL_MEALS_ORDERED')\n",
    "\n",
    "########################\n",
    "plt.subplot(2, 2, 4)\n",
    "sns.scatterplot(x = apprentice_df['WEEKLY_PLAN'],\n",
    "                y = apprentice_df['REVENUE'],\n",
    "                color = 'blue')\n",
    "plt.xlabel('WEEKLY_PLAN')\n",
    "plt.tight_layout()\n",
    "plt.show()\n",
    "\n",
    "########################\n",
    "\n",
    "fig, ax = plt.subplots(figsize = (10, 8))\n",
    "plt.subplot(2, 2, 1)\n",
    "sns.scatterplot(x = apprentice_df['TOTAL_PHOTOS_VIEWED'],\n",
    "                y = apprentice_df['REVENUE'],\n",
    "                color = 'green')\n",
    "plt.xlabel('TOTAL_PHOTOS_VIEWED')\n",
    "\n",
    "########################\n"
   ]
  },
  {
   "cell_type": "markdown",
   "metadata": {},
   "source": [
    "#### Boxplots (Interval/Count Data)"
   ]
  },
  {
   "cell_type": "markdown",
   "metadata": {},
   "source": [
    "Scatterplots can be confusing when working with interval/count data. I am going to move on and use boxplots to identify trends/flags for interlval/count variables in the dataset."
   ]
  },
  {
   "cell_type": "code",
   "execution_count": 35,
   "metadata": {},
   "outputs": [
    {
     "data": {
      "image/png": "[encoded data removed]",
      "text/plain": [
       "<Figure size 432x288 with 1 Axes>"
      ]
     },
     "metadata": {
      "needs_background": "light"
     },
     "output_type": "display_data"
    },
    {
     "data": {
      "image/png": "[encoded data removed]",
      "text/plain": [
       "<Figure size 432x288 with 1 Axes>"
      ]
     },
     "metadata": {
      "needs_background": "light"
     },
     "output_type": "display_data"
    },
    {
     "data": {
      "image/png": "[encoded data removed]",
      "text/plain": [
       "<Figure size 432x288 with 1 Axes>"
      ]
     },
     "metadata": {
      "needs_background": "light"
     },
     "output_type": "display_data"
    },
    {
     "data": {
      "image/png": "[encoded data removed]",
      "text/plain": [
       "<Figure size 432x288 with 1 Axes>"
      ]
     },
     "metadata": {
      "needs_background": "light"
     },
     "output_type": "display_data"
    },
    {
     "data": {
      "image/png": "[encoded data removed]",
      "text/plain": [
       "<Figure size 432x288 with 1 Axes>"
      ]
     },
     "metadata": {
      "needs_background": "light"
     },
     "output_type": "display_data"
    },
    {
     "data": {
      "image/png": "[encoded data removed]",
      "text/plain": [
       "<Figure size 432x288 with 1 Axes>"
      ]
     },
     "metadata": {
      "needs_background": "light"
     },
     "output_type": "display_data"
    },
    {
     "data": {
      "image/png": "[encoded data removed]",
      "text/plain": [
       "<Figure size 432x288 with 1 Axes>"
      ]
     },
     "metadata": {
      "needs_background": "light"
     },
     "output_type": "display_data"
    },
    {
     "data": {
      "image/png": "[encoded data removed]",
      "text/plain": [
       "<Figure size 432x288 with 1 Axes>"
      ]
     },
     "metadata": {
      "needs_background": "light"
     },
     "output_type": "display_data"
    },
    {
     "data": {
      "image/png": "[encoded data removed]",
      "text/plain": [
       "<Figure size 432x288 with 1 Axes>"
      ]
     },
     "metadata": {
      "needs_background": "light"
     },
     "output_type": "display_data"
    },
    {
     "data": {
      "image/png": "[encoded data removed]",
      "text/plain": [
       "<Figure size 432x288 with 1 Axes>"
      ]
     },
     "metadata": {
      "needs_background": "light"
     },
     "output_type": "display_data"
    },
    {
     "data": {
      "image/png": "[encoded data removed]",
      "text/plain": [
       "<Figure size 432x288 with 1 Axes>"
      ]
     },
     "metadata": {
      "needs_background": "light"
     },
     "output_type": "display_data"
    },
    {
     "data": {
      "image/png": "[encoded data removed]",
      "text/plain": [
       "<Figure size 432x288 with 1 Axes>"
      ]
     },
     "metadata": {
      "needs_background": "light"
     },
     "output_type": "display_data"
    },
    {
     "data": {
      "image/png": "[encoded data removed]",
      "text/plain": [
       "<Figure size 432x288 with 1 Axes>"
      ]
     },
     "metadata": {
      "needs_background": "light"
     },
     "output_type": "display_data"
    },
    {
     "data": {
      "image/png": "[encoded data removed]",
      "text/plain": [
       "<Figure size 432x288 with 1 Axes>"
      ]
     },
     "metadata": {
      "needs_background": "light"
     },
     "output_type": "display_data"
    },
    {
     "data": {
      "image/png": "[encoded data removed]",
      "text/plain": [
       "<Figure size 432x288 with 1 Axes>"
      ]
     },
     "metadata": {
      "needs_background": "light"
     },
     "output_type": "display_data"
    },
    {
     "data": {
      "image/png": "[encoded data removed]",
      "text/plain": [
       "<Figure size 432x288 with 1 Axes>"
      ]
     },
     "metadata": {
      "needs_background": "light"
     },
     "output_type": "display_data"
    },
    {
     "data": {
      "image/png": "[encoded data removed]",
      "text/plain": [
       "<Figure size 432x288 with 1 Axes>"
      ]
     },
     "metadata": {
      "needs_background": "light"
     },
     "output_type": "display_data"
    },
    {
     "data": {
      "image/png": "[encoded data removed]",
      "text/plain": [
       "<Figure size 432x288 with 1 Axes>"
      ]
     },
     "metadata": {
      "needs_background": "light"
     },
     "output_type": "display_data"
    }
   ],
   "source": [
    "########################\n",
    "# Visual EDA (Boxplots) -For Interval, Count, Binary Data\n",
    "########################\n",
    "# developing a boxplot\n",
    "sns.boxplot(x    = 'UNIQUE_MEALS_PURCH',\n",
    "            y    = 'REVENUE',\n",
    "            data = apprentice_df)\n",
    "\n",
    "\n",
    "# titles and axis labels\n",
    "plt.title(label   = 'Boxplot with Interval Data')\n",
    "plt.xlabel(xlabel = 'UNIQUE_MEALS_PURCH')\n",
    "plt.ylabel(ylabel = 'REVENUE')\n",
    "\n",
    "\n",
    "# displaying the plot\n",
    "plt.tight_layout()\n",
    "plt.show()\n",
    "\n",
    "\n",
    "########################\n",
    "# developing a boxplot\n",
    "sns.boxplot(x    = 'CONTACTS_W_CUSTOMER_SERVICE',\n",
    "            y    = 'REVENUE',\n",
    "            data = apprentice_df)\n",
    "\n",
    "\n",
    "# titles and axis labels\n",
    "plt.title(label   = 'Boxplot with Interval Data')\n",
    "plt.xlabel(xlabel = 'CONTACTS_W_CUSTOMER_SERVICE')\n",
    "plt.ylabel(ylabel = 'REVENUE')\n",
    "\n",
    "\n",
    "# displaying the plot\n",
    "plt.tight_layout()\n",
    "plt.show()\n",
    "\n",
    "\n",
    "########################\n",
    "# developing a boxplot\n",
    "sns.boxplot(x    = 'PRODUCT_CATEGORIES_VIEWED',\n",
    "            y    = 'REVENUE',\n",
    "            data = apprentice_df)\n",
    "\n",
    "\n",
    "# titles and axis labels\n",
    "plt.title(label   = 'Boxplot with Interval Data')\n",
    "plt.xlabel(xlabel = 'PRODUCT_CATEGORIES_VIEWED')\n",
    "plt.ylabel(ylabel = 'REVENUE')\n",
    "\n",
    "\n",
    "# displaying the plot\n",
    "plt.tight_layout()\n",
    "plt.show()\n",
    "\n",
    "########################\n",
    "# developing a boxplot\n",
    "sns.boxplot(x    = 'CANCELLATIONS_BEFORE_NOON',\n",
    "            y    = 'REVENUE',\n",
    "            data = apprentice_df)\n",
    "\n",
    "\n",
    "# titles and axis labels\n",
    "plt.title(label   = 'Boxplot with Interval Data')\n",
    "plt.xlabel(xlabel = 'CANCELLATIONS_BEFORE_NOON')\n",
    "plt.ylabel(ylabel = 'REVENUE')\n",
    "\n",
    "\n",
    "# displaying the plot\n",
    "plt.tight_layout()\n",
    "plt.show()\n",
    "\n",
    "########################\n",
    "# developing a boxplot\n",
    "sns.boxplot(x    = 'CANCELLATIONS_AFTER_NOON',\n",
    "            y    = 'REVENUE',\n",
    "            data = apprentice_df)\n",
    "\n",
    "\n",
    "# titles and axis labels\n",
    "plt.title(label   = 'Boxplot with Interval Data')\n",
    "plt.xlabel(xlabel = 'CANCELLATIONS_AFTER_NOON')\n",
    "plt.ylabel(ylabel = 'REVENUE')\n",
    "\n",
    "\n",
    "# displaying the plot\n",
    "plt.tight_layout()\n",
    "plt.show()\n",
    "\n",
    "########################\n",
    "# developing a boxplot\n",
    "sns.boxplot(x    = 'PC_LOGINS',\n",
    "            y    = 'REVENUE',\n",
    "            data = apprentice_df)\n",
    "\n",
    "\n",
    "# titles and axis labels\n",
    "plt.title(label   = 'Boxplot with Interval Data')\n",
    "plt.xlabel(xlabel = 'PC_LOGINS')\n",
    "plt.ylabel(ylabel = 'REVENUE')\n",
    "\n",
    "\n",
    "# displaying the plot\n",
    "plt.tight_layout()\n",
    "plt.show()\n",
    "\n",
    "########################\n",
    "# developing a boxplot\n",
    "sns.boxplot(x    = 'MOBILE_LOGINS',\n",
    "            y    = 'REVENUE',\n",
    "            data = apprentice_df)\n",
    "\n",
    "\n",
    "# titles and axis labels\n",
    "plt.title(label   = 'Boxplot with Interval Data')\n",
    "plt.xlabel(xlabel = 'MOBILE_LOGINS')\n",
    "plt.ylabel(ylabel = 'REVENUE')\n",
    "\n",
    "\n",
    "# displaying the plot\n",
    "plt.tight_layout()\n",
    "plt.show()\n",
    "\n",
    "\n",
    "########################\n",
    "# developing a boxplot\n",
    "sns.boxplot(x    = 'EARLY_DELIVERIES',\n",
    "            y    = 'REVENUE',\n",
    "            data = apprentice_df)\n",
    "\n",
    "\n",
    "# titles and axis labels\n",
    "plt.title(label   = 'Boxplot with Interval Data')\n",
    "plt.xlabel(xlabel = 'EARLY_DELIVERIES')\n",
    "plt.ylabel(ylabel = 'REVENUE')\n",
    "\n",
    "\n",
    "# displaying the plot\n",
    "plt.tight_layout()\n",
    "plt.show()\n",
    "\n",
    "\n",
    "########################\n",
    "# developing a boxplot\n",
    "sns.boxplot(x    = 'LATE_DELIVERIES',\n",
    "            y    = 'REVENUE',\n",
    "            data = apprentice_df)\n",
    "\n",
    "\n",
    "# titles and axis labels\n",
    "plt.title(label   = 'Boxplot with Interval Data')\n",
    "plt.xlabel(xlabel = 'LATE_DELIVERIES')\n",
    "plt.ylabel(ylabel = 'REVENUE')\n",
    "\n",
    "\n",
    "# displaying the plot\n",
    "plt.tight_layout()\n",
    "plt.show()\n",
    "\n",
    "########################\n",
    "\n",
    "\n",
    "# developing a boxplot\n",
    "sns.boxplot(x    = 'LARGEST_ORDER_SIZE',\n",
    "            y    = 'REVENUE',\n",
    "            data = apprentice_df)\n",
    "\n",
    "\n",
    "# titles and axis labels\n",
    "plt.title(label   = 'Boxplot with Interval Data')\n",
    "plt.xlabel(xlabel = 'LARGEST_ORDER_SIZE')\n",
    "plt.ylabel(ylabel = 'REVENUE')\n",
    "\n",
    "\n",
    "# displaying the plot\n",
    "plt.tight_layout()\n",
    "plt.show()\n",
    "\n",
    "########################\n",
    "\n",
    "\n",
    "# developing a boxplot\n",
    "sns.boxplot(x    = 'MASTER_CLASSES_ATTENDED',\n",
    "            y    = 'REVENUE',\n",
    "            data = apprentice_df)\n",
    "\n",
    "\n",
    "# titles and axis labels\n",
    "plt.title(label   = 'Boxplot with Interval Data')\n",
    "plt.xlabel(xlabel = 'MASTER_CLASSES_ATTENDED')\n",
    "plt.ylabel(ylabel = 'REVENUE')\n",
    "\n",
    "\n",
    "# displaying the plot\n",
    "plt.tight_layout()\n",
    "plt.show()\n",
    "\n",
    "########################\n",
    "\n",
    "\n",
    "# developing a boxplot\n",
    "sns.boxplot(x    = 'MEDIAN_MEAL_RATING',\n",
    "            y    = 'REVENUE',\n",
    "            data = apprentice_df)\n",
    "\n",
    "\n",
    "# titles and axis labels\n",
    "plt.title(label   = 'Boxplot with Interval Data')\n",
    "plt.xlabel(xlabel = 'MEDIAN_MEAL_RATING')\n",
    "plt.ylabel(ylabel = 'REVENUE')\n",
    "\n",
    "\n",
    "# displaying the plot\n",
    "plt.tight_layout()\n",
    "plt.show()\n",
    "\n",
    "########################\n",
    "\n",
    "\n",
    "# developing a boxplot\n",
    "sns.boxplot(x    = 'AVG_CLICKS_PER_VISIT',\n",
    "            y    = 'REVENUE',\n",
    "            data = apprentice_df)\n",
    "\n",
    "\n",
    "# titles and axis labels\n",
    "plt.title(label   = 'Boxplot with Interval Data')\n",
    "plt.xlabel(xlabel = 'AVG_CLICKS_PER_VISIT')\n",
    "plt.ylabel(ylabel = 'REVENUE')\n",
    "\n",
    "\n",
    "# displaying the plot\n",
    "plt.tight_layout()\n",
    "plt.show()\n",
    "\n",
    "# developing a boxplot\n",
    "sns.boxplot(x    = 'CROSS_SELL_SUCCESS',\n",
    "            y    = 'REVENUE',\n",
    "            data = apprentice_df)\n",
    "\n",
    "\n",
    "# titles and axis labels\n",
    "plt.title(label   = 'Boxplot with Interval Data')\n",
    "plt.xlabel(xlabel = 'CROSS_SELL_SUCCESS')\n",
    "plt.ylabel(ylabel = 'REVENUE')\n",
    "\n",
    "\n",
    "# displaying the plot\n",
    "plt.tight_layout()\n",
    "plt.show()\n",
    "\n",
    "# developing a boxplot\n",
    "sns.boxplot(x    = 'TASTES_AND_PREFERENCES',\n",
    "            y    = 'REVENUE',\n",
    "            data = apprentice_df)\n",
    "\n",
    "\n",
    "# titles and axis labels\n",
    "plt.title(label   = 'Boxplot with Interval Data')\n",
    "plt.xlabel(xlabel = 'TASTES_AND_PREFERENCES')\n",
    "plt.ylabel(ylabel = 'REVENUE')\n",
    "\n",
    "\n",
    "# displaying the plot\n",
    "plt.tight_layout()\n",
    "plt.show()\n",
    "\n",
    "# developing a boxplot\n",
    "sns.boxplot(x    = 'MOBILE_NUMBER',\n",
    "            y    = 'REVENUE',\n",
    "            data = apprentice_df)\n",
    "\n",
    "\n",
    "# titles and axis labels\n",
    "plt.title(label   = 'Boxplot with Interval Data')\n",
    "plt.xlabel(xlabel = 'MOBILE_NUMBER')\n",
    "plt.ylabel(ylabel = 'REVENUE')\n",
    "\n",
    "\n",
    "# displaying the plot\n",
    "plt.tight_layout()\n",
    "plt.show()\n",
    "\n",
    "# developing a boxplot\n",
    "sns.boxplot(x    = 'PACKAGE_LOCKER',\n",
    "            y    = 'REVENUE',\n",
    "            data = apprentice_df)\n",
    "\n",
    "\n",
    "# titles and axis labels\n",
    "plt.title(label   = 'Boxplot with Interval Data')\n",
    "plt.xlabel(xlabel = 'PACKAGE_LOCKER')\n",
    "plt.ylabel(ylabel = 'REVENUE')\n",
    "\n",
    "\n",
    "# displaying the plot\n",
    "plt.tight_layout()\n",
    "plt.show()\n",
    "\n",
    "# developing a boxplot\n",
    "sns.boxplot(x    = 'REFRIGERATED_LOCKER',\n",
    "            y    = 'REVENUE',\n",
    "            data = apprentice_df)\n",
    "\n",
    "\n",
    "# titles and axis labels\n",
    "plt.title(label   = 'Boxplot with Interval Data')\n",
    "plt.xlabel(xlabel = 'REFRIGERATED_LOCKER')\n",
    "plt.ylabel(ylabel = 'REVENUE')\n",
    "\n",
    "\n",
    "# displaying the plot\n",
    "plt.tight_layout()\n",
    "plt.show()"
   ]
  },
  {
   "cell_type": "markdown",
   "metadata": {},
   "source": [
    "By analyzing differences in the median lines for each boxplot, I am going to use log transformations for two variables that doesn't show linearity.(LARGEST_ORDER_SIZE and AVG_CLICKS_PER_VISIT)Let's also check the correlations of these new features with revenue."
   ]
  },
  {
   "cell_type": "code",
   "execution_count": 36,
   "metadata": {},
   "outputs": [
    {
     "data": {
      "text/html": [
       "<div>\n",
       "<style scoped>\n",
       "    .dataframe tbody tr th:only-of-type {\n",
       "        vertical-align: middle;\n",
       "    }\n",
       "\n",
       "    .dataframe tbody tr th {\n",
       "        vertical-align: top;\n",
       "    }\n",
       "\n",
       "    .dataframe thead th {\n",
       "        text-align: right;\n",
       "    }\n",
       "</style>\n",
       "<table border=\"1\" class=\"dataframe\">\n",
       "  <thead>\n",
       "    <tr style=\"text-align: right;\">\n",
       "      <th></th>\n",
       "      <th>REVENUE</th>\n",
       "      <th>log_REVENUE</th>\n",
       "    </tr>\n",
       "  </thead>\n",
       "  <tbody>\n",
       "    <tr>\n",
       "      <th>LARGEST_ORDER_SIZE</th>\n",
       "      <td>0.44</td>\n",
       "      <td>0.45</td>\n",
       "    </tr>\n",
       "    <tr>\n",
       "      <th>log_LARGEST_ORDER_SIZE</th>\n",
       "      <td>0.42</td>\n",
       "      <td>0.45</td>\n",
       "    </tr>\n",
       "  </tbody>\n",
       "</table>\n",
       "</div>"
      ],
      "text/plain": [
       "                        REVENUE  log_REVENUE\n",
       "LARGEST_ORDER_SIZE         0.44         0.45\n",
       "log_LARGEST_ORDER_SIZE     0.42         0.45"
      ]
     },
     "execution_count": 36,
     "metadata": {},
     "output_type": "execute_result"
    }
   ],
   "source": [
    "apprentice_df['log_LARGEST_ORDER_SIZE'] = np.log10(apprentice_df['LARGEST_ORDER_SIZE'])\n",
    "apprentice_df['log_REVENUE'] = np.log10(apprentice_df['REVENUE'])\n",
    "\n",
    "log_corr = apprentice_df.loc[ : , ['LARGEST_ORDER_SIZE',\n",
    "                                    'log_LARGEST_ORDER_SIZE',\n",
    "                                    'REVENUE',\n",
    "                                    'log_REVENUE']  ].corr(method = 'pearson')\\\n",
    "                                                 .round(decimals = 2)\n",
    "\n",
    "\n",
    "\n",
    "log_corr.loc[ ['LARGEST_ORDER_SIZE', 'log_LARGEST_ORDER_SIZE'],\n",
    "              ['REVENUE', 'log_REVENUE']  ]"
   ]
  },
  {
   "cell_type": "code",
   "execution_count": 37,
   "metadata": {},
   "outputs": [
    {
     "data": {
      "text/html": [
       "<div>\n",
       "<style scoped>\n",
       "    .dataframe tbody tr th:only-of-type {\n",
       "        vertical-align: middle;\n",
       "    }\n",
       "\n",
       "    .dataframe tbody tr th {\n",
       "        vertical-align: top;\n",
       "    }\n",
       "\n",
       "    .dataframe thead th {\n",
       "        text-align: right;\n",
       "    }\n",
       "</style>\n",
       "<table border=\"1\" class=\"dataframe\">\n",
       "  <thead>\n",
       "    <tr style=\"text-align: right;\">\n",
       "      <th></th>\n",
       "      <th>REVENUE</th>\n",
       "      <th>log_REVENUE</th>\n",
       "    </tr>\n",
       "  </thead>\n",
       "  <tbody>\n",
       "    <tr>\n",
       "      <th>AVG_CLICKS_PER_VISIT</th>\n",
       "      <td>-0.55</td>\n",
       "      <td>-0.58</td>\n",
       "    </tr>\n",
       "    <tr>\n",
       "      <th>log_AVG_CLICKS_PER_VISIT</th>\n",
       "      <td>-0.56</td>\n",
       "      <td>-0.58</td>\n",
       "    </tr>\n",
       "  </tbody>\n",
       "</table>\n",
       "</div>"
      ],
      "text/plain": [
       "                          REVENUE  log_REVENUE\n",
       "AVG_CLICKS_PER_VISIT        -0.55        -0.58\n",
       "log_AVG_CLICKS_PER_VISIT    -0.56        -0.58"
      ]
     },
     "execution_count": 37,
     "metadata": {},
     "output_type": "execute_result"
    }
   ],
   "source": [
    "apprentice_df['log_AVG_CLICKS_PER_VISIT'] = np.log10(apprentice_df['AVG_CLICKS_PER_VISIT'])\n",
    "apprentice_df['log_REVENUE'] = np.log10(apprentice_df['REVENUE'])\n",
    "\n",
    "log_corr = apprentice_df.loc[ : , ['AVG_CLICKS_PER_VISIT',\n",
    "                                    'log_AVG_CLICKS_PER_VISIT',\n",
    "                                    'REVENUE',\n",
    "                                    'log_REVENUE']  ].corr(method = 'pearson')\\\n",
    "                                                 .round(decimals = 2)\n",
    "\n",
    "\n",
    "log_corr.loc[ ['AVG_CLICKS_PER_VISIT', 'log_AVG_CLICKS_PER_VISIT'],\n",
    "              ['REVENUE', 'log_REVENUE']  ]"
   ]
  },
  {
   "cell_type": "markdown",
   "metadata": {},
   "source": [
    "#### Setting Trends\n",
    "Now I will set tresholds for creating new variables to use in my final model and get better results."
   ]
  },
  {
   "cell_type": "code",
   "execution_count": 38,
   "metadata": {},
   "outputs": [],
   "source": [
    "#Trend Based Threshold\n",
    "CONTACTS_W_CUSTOMER_SERVICE_TREND = 10  #Data drops off after this point\n",
    "AVG_TIME_PER_SITE_VISIT_TREND     = 175 #Data Drops off before this point\n",
    "AVG_PREP_VID_TIME_TREND           = 250 #Data Scatters after this point\n",
    "LARGEST_ORDER_SIZE_TREND          = 5   #Trend change after this point\n",
    "MASTER_CLASSES_ATTENDED_TREND     = 1   #Trend change after this point\n",
    "TOTAL_MEALS_ORDERED_TREND         = 20  #Data Drops off before this point\n",
    "CANCELLATIONS_BEFORE_NOON_TREND   = 0   #Zero\n",
    "CANCELLATIONS_AFTER_NOON_TREND    = 0   #Zero\n",
    "WEEKLY_PLAN_TREND                 = 0   #Zero inflated\n",
    "TOTAL_PHOTOS_VIEWED_TREND         = 0   #Zero inflated\n",
    "UNIQUE_MEALS_PURCH_TREND1         = 1   #Data is different at 1\n",
    "UNIQUE_MEALS_PURCH_TREND2         = 10  #Trend change at 1\n",
    "MEDIAN_MEAL_RATING_TREND1         = 3   #creating different segments for median meal rating (most correlated)\n",
    "MEDIAN_MEAL_RATING_TREND2         = 4   #creating different segments for median meal rating (most correlated)\n",
    "MEDIAN_MEAL_RATING_TREND3         = 5   #creating different segments for median meal rating (most correlated)\n"
   ]
  },
  {
   "cell_type": "markdown",
   "metadata": {},
   "source": [
    "I am going to check number of observations of both sides of these tresholds. At least 100 observations must be on both sides of the flag."
   ]
  },
  {
   "cell_type": "code",
   "execution_count": 39,
   "metadata": {},
   "outputs": [
    {
     "name": "stdout",
     "output_type": "stream",
     "text": [
      "\n",
      "                           No\t\tYes\n",
      "                          ---------------------\n",
      "TOTAL MEALS ORDERED           | 33\t\t1913\n",
      "AVG TIME PER SITE VISIT       | 107\t\t1839\n",
      "AVG PREP VID TIME             | 80\t\t1866\n",
      "LARGEST ORDER SIZE            | 0\t\t1946\n",
      "MASTER_CLASSES_ATTENDED       | 0\t\t1946\n",
      "CONTACTS_W_CUSTOMER_SERVICE   | 216\t\t1730\n",
      "CANCELLATIONS_BEFORE_NOON     | 0\t\t1946\n",
      "CANCELLATIONS_AFTER_NOON      | 0\t\t1946\n",
      "WEEKLY_PLAN                   | 0\t\t1946\n",
      "UNIQUE_MEALS_PURCH            | 0\t\t1946\n",
      "MEDIAN_MEAL_RATING            | 0\t\t1946\n",
      "\n",
      "\n"
     ]
    }
   ],
   "source": [
    "# counting the number of outliers for scatterplot\n",
    "CONTACTS_W_CUSTOMER_SERVICE_out     = len(apprentice_df['CONTACTS_W_CUSTOMER_SERVICE'][apprentice_df['CONTACTS_W_CUSTOMER_SERVICE']> 10]) # TOTAL_MEALS_ORDERED\n",
    "AVG_TIME_PER_SITE_VISIT_out         = len(apprentice_df['AVG_TIME_PER_SITE_VISIT'][apprentice_df['AVG_TIME_PER_SITE_VISIT']> 175]) # AVG_TIME_PER_SITE_VISIT\n",
    "AVG_PREP_VID_TIME_out               = len(apprentice_df['AVG_PREP_VID_TIME'][apprentice_df['AVG_PREP_VID_TIME']> 250]) # AVG_PREP_VID_TIME\n",
    "LARGEST_ORDER_SIZE_out              = len(apprentice_df['LARGEST_ORDER_SIZE'][apprentice_df['LARGEST_ORDER_SIZE']> 5])\n",
    "MASTER_CLASSES_ATTENDED_out         = len(apprentice_df['MASTER_CLASSES_ATTENDED'][apprentice_df['MASTER_CLASSES_ATTENDED']> 1])\n",
    "TOTAL_MEALS_ORDERED_out             = len(apprentice_df['TOTAL_MEALS_ORDERED'][apprentice_df['TOTAL_MEALS_ORDERED']> 250])\n",
    "CANCELLATIONS_BEFORE_NOON_out       = len(apprentice_df['CANCELLATIONS_BEFORE_NOON'][apprentice_df['CANCELLATIONS_BEFORE_NOON']> 250])\n",
    "CANCELLATIONS_AFTER_NOON_out        = len(apprentice_df['CANCELLATIONS_AFTER_NOON'][apprentice_df['CANCELLATIONS_AFTER_NOON']> 250])\n",
    "WEEKLY_PLAN_out                     = len(apprentice_df['WEEKLY_PLAN'][apprentice_df['WEEKLY_PLAN']> 250])\n",
    "TOTAL_PHOTOS_VIEWED_out             = len(apprentice_df['TOTAL_PHOTOS_VIEWED'][apprentice_df['TOTAL_PHOTOS_VIEWED']> 250])\n",
    "UNIQUE_MEALS_PURCH_out              = len(apprentice_df['UNIQUE_MEALS_PURCH'][apprentice_df['UNIQUE_MEALS_PURCH']> 250])\n",
    "UNIQUE_MEALS_PURCH_out2             = len(apprentice_df['UNIQUE_MEALS_PURCH'][apprentice_df['UNIQUE_MEALS_PURCH']> 250])\n",
    "MEDIAN_MEAL_RATING_out1             = len(apprentice_df['MEDIAN_MEAL_RATING'][apprentice_df['MEDIAN_MEAL_RATING']> 250])\n",
    "MEDIAN_MEAL_RATING_out2             = len(apprentice_df['MEDIAN_MEAL_RATING'][apprentice_df['MEDIAN_MEAL_RATING']> 250])\n",
    "MEDIAN_MEAL_RATING_out3             = len(apprentice_df['MEDIAN_MEAL_RATING'][apprentice_df['MEDIAN_MEAL_RATING']> 250])\n",
    "\n",
    "# printing a table of the results\n",
    "print(f\"\"\"\n",
    "                           No\\t\\tYes\n",
    "                          ---------------------\n",
    "TOTAL MEALS ORDERED           | {TOTAL_MEALS_ORDERED_out}\\t\\t{len(apprentice_df) - TOTAL_MEALS_ORDERED_out}\n",
    "AVG TIME PER SITE VISIT       | {AVG_TIME_PER_SITE_VISIT_out}\\t\\t{len(apprentice_df) - AVG_TIME_PER_SITE_VISIT_out}\n",
    "AVG PREP VID TIME             | {AVG_PREP_VID_TIME_out}\\t\\t{len(apprentice_df) - AVG_PREP_VID_TIME_out}\n",
    "LARGEST ORDER SIZE            | {LARGEST_ORDER_SIZE_out}\\t\\t{len(apprentice_df) - LARGEST_ORDER_SIZE_out}\n",
    "MASTER_CLASSES_ATTENDED       | {MASTER_CLASSES_ATTENDED_out}\\t\\t{len(apprentice_df) - MASTER_CLASSES_ATTENDED_out}\n",
    "CONTACTS_W_CUSTOMER_SERVICE   | {CONTACTS_W_CUSTOMER_SERVICE_out}\\t\\t{len(apprentice_df) - CONTACTS_W_CUSTOMER_SERVICE_out}\n",
    "CANCELLATIONS_BEFORE_NOON     | {CANCELLATIONS_BEFORE_NOON_out}\\t\\t{len(apprentice_df) - CANCELLATIONS_BEFORE_NOON_out}\n",
    "CANCELLATIONS_AFTER_NOON      | {CANCELLATIONS_AFTER_NOON_out}\\t\\t{len(apprentice_df) - CANCELLATIONS_AFTER_NOON_out}\n",
    "WEEKLY_PLAN                   | {WEEKLY_PLAN_out}\\t\\t{len(apprentice_df) - WEEKLY_PLAN_out}\n",
    "UNIQUE_MEALS_PURCH            | {UNIQUE_MEALS_PURCH_out}\\t\\t{len(apprentice_df) - UNIQUE_MEALS_PURCH_out}\n",
    "MEDIAN_MEAL_RATING            | {MEDIAN_MEAL_RATING_out1}\\t\\t{len(apprentice_df) - MEDIAN_MEAL_RATING_out1}\n",
    "\n",
    "\"\"\")"
   ]
  },
  {
   "cell_type": "markdown",
   "metadata": {},
   "source": [
    "#### Creating New Variables\n",
    "Creating new variables based on the tresholds we've set will enable us to create most accurate model while achieving the highest R-sqr and Adj R-sqr values."
   ]
  },
  {
   "cell_type": "code",
   "execution_count": 40,
   "metadata": {},
   "outputs": [],
   "source": [
    "# Contact With Customer Service \n",
    "\n",
    "apprentice_df['new_CONTACTS_W_CUSTOMER_SERVICE'] = 0\n",
    "\n",
    "for index, value in apprentice_df.iterrows():\n",
    "    if apprentice_df.loc[index, 'CONTACTS_W_CUSTOMER_SERVICE'] > CONTACTS_W_CUSTOMER_SERVICE_TREND:\n",
    "        apprentice_df.loc[index, 'new_CONTACTS_W_CUSTOMER_SERVICE'] = 1     \n",
    "\n",
    "# Average Time Spent Per Visit\n",
    "apprentice_df['new_AVG_TIME_PER_SITE_VISIT'] = 0\n",
    "\n",
    "for index, value in apprentice_df.iterrows():\n",
    "    if apprentice_df.loc[index, 'AVG_TIME_PER_SITE_VISIT'] > AVG_TIME_PER_SITE_VISIT_TREND :\n",
    "        apprentice_df.loc[index, 'new_AVG_TIME_PER_SITE_VISIT'] = 1\n",
    "        \n",
    "        \n",
    "# Average Prep Vid\n",
    "apprentice_df['new_AVG_PREP_VID_TIME'] = 0\n",
    "\n",
    "for index, value in apprentice_df.iterrows():\n",
    "    if apprentice_df.loc[index, 'AVG_PREP_VID_TIME'] > AVG_PREP_VID_TIME_TREND:\n",
    "        apprentice_df.loc[index, 'new_AVG_PREP_VID_TIME'] = 1\n",
    "\n",
    "\n",
    "# Unique Meals Purchased\n",
    "apprentice_df['new_LARGEST_ORDER_SIZE'] = 0\n",
    "\n",
    "\n",
    "for index, value in apprentice_df.iterrows():\n",
    "    if apprentice_df.loc[index, 'LARGEST_ORDER_SIZE'] > LARGEST_ORDER_SIZE_TREND:\n",
    "        apprentice_df.loc[index, 'new_LARGEST_ORDER_SIZE'] = 1\n",
    "\n",
    "\n",
    "# Average Clicks Per Visit\n",
    "apprentice_df['new_MASTER_CLASSES_ATTENDED'] = 0\n",
    "\n",
    "\n",
    "for index, value in apprentice_df.iterrows():\n",
    "    if apprentice_df.loc[index, 'MASTER_CLASSES_ATTENDED'] > MASTER_CLASSES_ATTENDED_TREND :\n",
    "        apprentice_df.loc[index, 'new_MASTER_CLASSES_ATTENDED'] = 1\n",
    "\n",
    "\n",
    "# Master Classes Attended\n",
    "apprentice_df['new_TOTAL_MEALS_ORDERED'] = 0\n",
    "\n",
    "for index, value in apprentice_df.iterrows():\n",
    "    if apprentice_df.loc[index, 'TOTAL_MEALS_ORDERED'] > TOTAL_MEALS_ORDERED_TREND :\n",
    "        apprentice_df.loc[index, 'new_TOTAL_MEALS_ORDERED'] = 1\n",
    "\n",
    "\n",
    "#CANCELLATIONS_BEFORE_NOON\n",
    "apprentice_df['new_CANCELLATIONS_BEFORE_NOON'] = 0\n",
    "\n",
    "\n",
    "for index, value in apprentice_df.iterrows():\n",
    "    if apprentice_df.loc[index, 'CANCELLATIONS_BEFORE_NOON'] == CANCELLATIONS_BEFORE_NOON_TREND:\n",
    "        apprentice_df.loc[index, 'new_CANCELLATIONS_BEFORE_NOON'] = 1\n",
    "\n",
    "\n",
    "\n",
    "# Cancellations Before Noon\n",
    "apprentice_df['new_CANCELLATIONS_AFTER_NOON'] = 0\n",
    "\n",
    "for index, value in apprentice_df.iterrows():\n",
    "    if apprentice_df.loc[index, 'CANCELLATIONS_AFTER_NOON'] == CANCELLATIONS_AFTER_NOON_TREND:\n",
    "        apprentice_df.loc[index, 'new_CANCELLATIONS_AFTER_NOON'] = 1\n",
    "\n",
    "\n",
    "# Cancellations After Noon\n",
    "apprentice_df['new_WEEKLY_PLAN'] = 0\n",
    "\n",
    "for index, value in apprentice_df.iterrows():\n",
    "    if apprentice_df.loc[index, 'WEEKLY_PLAN'] == WEEKLY_PLAN_TREND:\n",
    "        apprentice_df.loc[index, 'new_WEEKLY_PLAN'] = 1\n",
    "\n",
    "\n",
    "# Weekly Plan\n",
    "apprentice_df['new_TOTAL_PHOTOS_VIEWED'] = 0\n",
    "\n",
    "for index, value in apprentice_df.iterrows():\n",
    "    if apprentice_df.loc[index, 'TOTAL_PHOTOS_VIEWED'] == TOTAL_PHOTOS_VIEWED_TREND:\n",
    "        apprentice_df.loc[index, 'new_TOTAL_PHOTOS_VIEWED'] = 1\n",
    "\n",
    "\n",
    "\n",
    "# Total Photos Viewed\n",
    "apprentice_df['new_UNIQUE_MEALS_PURCH'] = 0\n",
    "\n",
    "for index, value in apprentice_df.iterrows():\n",
    "    if apprentice_df.loc[index, 'UNIQUE_MEALS_PURCH'] == UNIQUE_MEALS_PURCH_TREND1:\n",
    "        apprentice_df.loc[index, 'new_UNIQUE_MEALS_PURCH'] = 1\n",
    "\n",
    "\n",
    "# Median Meal Rating\n",
    "apprentice_df['new_UNIQUE_MEALS_PURCH2'] = 0\n",
    "\n",
    "for index, value in apprentice_df.iterrows():\n",
    "    if apprentice_df.loc[index, 'UNIQUE_MEALS_PURCH'] == UNIQUE_MEALS_PURCH_TREND2:\n",
    "        apprentice_df.loc[index, 'new_UNIQUE_MEALS_PURCH2'] = 1\n",
    "\n",
    "\n",
    "\n",
    "apprentice_df['new_MEDIAN_MEAL_RATING1'] = 0\n",
    "\n",
    "for index, value in apprentice_df.iterrows():\n",
    "    if apprentice_df.loc[index, 'MEDIAN_MEAL_RATING'] == MEDIAN_MEAL_RATING_TREND1:\n",
    "        apprentice_df.loc[index, 'new_MEDIAN_MEAL_RATING1'] = 1\n",
    "\n",
    "\n",
    "apprentice_df['new_MEDIAN_MEAL_RATING2'] = 0\n",
    "\n",
    "for index, value in apprentice_df.iterrows():\n",
    "    if apprentice_df.loc[index, 'MEDIAN_MEAL_RATING'] == MEDIAN_MEAL_RATING_TREND2:\n",
    "        apprentice_df.loc[index, 'new_MEDIAN_MEAL_RATING2'] = 1\n",
    "        \n",
    "apprentice_df['new_MEDIAN_MEAL_RATING3'] = 0\n",
    "\n",
    "for index, value in apprentice_df.iterrows():\n",
    "    if apprentice_df.loc[index, 'MEDIAN_MEAL_RATING'] == MEDIAN_MEAL_RATING_TREND3:\n",
    "        apprentice_df.loc[index, 'new_MEDIAN_MEAL_RATING3'] = 1       \n",
    "              "
   ]
  },
  {
   "cell_type": "code",
   "execution_count": 41,
   "metadata": {},
   "outputs": [
    {
     "name": "stdout",
     "output_type": "stream",
     "text": [
      "Index(['REVENUE', 'CROSS_SELL_SUCCESS', 'NAME', 'FIRST_NAME', 'FAMILY_NAME', 'TOTAL_MEALS_ORDERED', 'UNIQUE_MEALS_PURCH', 'CONTACTS_W_CUSTOMER_SERVICE', 'PRODUCT_CATEGORIES_VIEWED', 'AVG_TIME_PER_SITE_VISIT', 'MOBILE_NUMBER', 'CANCELLATIONS_BEFORE_NOON', 'CANCELLATIONS_AFTER_NOON', 'TASTES_AND_PREFERENCES', 'PC_LOGINS', 'MOBILE_LOGINS', 'WEEKLY_PLAN', 'EARLY_DELIVERIES', 'LATE_DELIVERIES', 'PACKAGE_LOCKER', 'REFRIGERATED_LOCKER', 'AVG_PREP_VID_TIME', 'LARGEST_ORDER_SIZE',\n",
      "       'MASTER_CLASSES_ATTENDED', 'MEDIAN_MEAL_RATING', 'AVG_CLICKS_PER_VISIT', 'TOTAL_PHOTOS_VIEWED', 'log_REVENUE', 'PERSONAL', 'PROFESSIONAL', 'SPAM', 'log_LARGEST_ORDER_SIZE', 'log_AVG_CLICKS_PER_VISIT', 'new_CONTACTS_W_CUSTOMER_SERVICE', 'new_AVG_TIME_PER_SITE_VISIT', 'new_AVG_PREP_VID_TIME', 'new_LARGEST_ORDER_SIZE', 'new_MASTER_CLASSES_ATTENDED', 'new_TOTAL_MEALS_ORDERED', 'new_CANCELLATIONS_BEFORE_NOON', 'new_CANCELLATIONS_AFTER_NOON', 'new_WEEKLY_PLAN', 'new_TOTAL_PHOTOS_VIEWED',\n",
      "       'new_UNIQUE_MEALS_PURCH', 'new_UNIQUE_MEALS_PURCH2', 'new_MEDIAN_MEAL_RATING1', 'new_MEDIAN_MEAL_RATING2', 'new_MEDIAN_MEAL_RATING3'],\n",
      "      dtype='object')\n"
     ]
    }
   ],
   "source": [
    "#checking if my feature engineered columns are added to dataframe\n",
    "print(apprentice_df.columns)"
   ]
  },
  {
   "cell_type": "code",
   "execution_count": 42,
   "metadata": {},
   "outputs": [
    {
     "data": {
      "text/html": [
       "<div>\n",
       "<style scoped>\n",
       "    .dataframe tbody tr th:only-of-type {\n",
       "        vertical-align: middle;\n",
       "    }\n",
       "\n",
       "    .dataframe tbody tr th {\n",
       "        vertical-align: top;\n",
       "    }\n",
       "\n",
       "    .dataframe thead th {\n",
       "        text-align: right;\n",
       "    }\n",
       "</style>\n",
       "<table border=\"1\" class=\"dataframe\">\n",
       "  <thead>\n",
       "    <tr style=\"text-align: right;\">\n",
       "      <th></th>\n",
       "      <th>new_CONTACTS_W_CUSTOMER_SERVICE</th>\n",
       "      <th>new_AVG_TIME_PER_SITE_VISIT</th>\n",
       "      <th>new_AVG_PREP_VID_TIME</th>\n",
       "      <th>new_LARGEST_ORDER_SIZE</th>\n",
       "      <th>new_MASTER_CLASSES_ATTENDED</th>\n",
       "      <th>new_TOTAL_MEALS_ORDERED</th>\n",
       "      <th>new_CANCELLATIONS_BEFORE_NOON</th>\n",
       "      <th>new_CANCELLATIONS_AFTER_NOON</th>\n",
       "      <th>new_WEEKLY_PLAN</th>\n",
       "      <th>new_TOTAL_PHOTOS_VIEWED</th>\n",
       "      <th>new_UNIQUE_MEALS_PURCH</th>\n",
       "      <th>new_UNIQUE_MEALS_PURCH2</th>\n",
       "      <th>new_MEDIAN_MEAL_RATING1</th>\n",
       "      <th>new_MEDIAN_MEAL_RATING2</th>\n",
       "      <th>new_MEDIAN_MEAL_RATING3</th>\n",
       "    </tr>\n",
       "  </thead>\n",
       "  <tbody>\n",
       "    <tr>\n",
       "      <th>0</th>\n",
       "      <td>1</td>\n",
       "      <td>0</td>\n",
       "      <td>0</td>\n",
       "      <td>0</td>\n",
       "      <td>0</td>\n",
       "      <td>0</td>\n",
       "      <td>0</td>\n",
       "      <td>0</td>\n",
       "      <td>1</td>\n",
       "      <td>1</td>\n",
       "      <td>0</td>\n",
       "      <td>0</td>\n",
       "      <td>0</td>\n",
       "      <td>0</td>\n",
       "      <td>0</td>\n",
       "    </tr>\n",
       "    <tr>\n",
       "      <th>1</th>\n",
       "      <td>0</td>\n",
       "      <td>0</td>\n",
       "      <td>0</td>\n",
       "      <td>0</td>\n",
       "      <td>0</td>\n",
       "      <td>1</td>\n",
       "      <td>1</td>\n",
       "      <td>1</td>\n",
       "      <td>0</td>\n",
       "      <td>0</td>\n",
       "      <td>0</td>\n",
       "      <td>0</td>\n",
       "      <td>1</td>\n",
       "      <td>0</td>\n",
       "      <td>0</td>\n",
       "    </tr>\n",
       "    <tr>\n",
       "      <th>2</th>\n",
       "      <td>1</td>\n",
       "      <td>0</td>\n",
       "      <td>0</td>\n",
       "      <td>0</td>\n",
       "      <td>0</td>\n",
       "      <td>0</td>\n",
       "      <td>0</td>\n",
       "      <td>1</td>\n",
       "      <td>0</td>\n",
       "      <td>1</td>\n",
       "      <td>0</td>\n",
       "      <td>0</td>\n",
       "      <td>0</td>\n",
       "      <td>0</td>\n",
       "      <td>0</td>\n",
       "    </tr>\n",
       "    <tr>\n",
       "      <th>3</th>\n",
       "      <td>1</td>\n",
       "      <td>0</td>\n",
       "      <td>0</td>\n",
       "      <td>0</td>\n",
       "      <td>0</td>\n",
       "      <td>0</td>\n",
       "      <td>0</td>\n",
       "      <td>1</td>\n",
       "      <td>0</td>\n",
       "      <td>1</td>\n",
       "      <td>0</td>\n",
       "      <td>0</td>\n",
       "      <td>0</td>\n",
       "      <td>0</td>\n",
       "      <td>0</td>\n",
       "    </tr>\n",
       "    <tr>\n",
       "      <th>4</th>\n",
       "      <td>0</td>\n",
       "      <td>0</td>\n",
       "      <td>0</td>\n",
       "      <td>0</td>\n",
       "      <td>0</td>\n",
       "      <td>1</td>\n",
       "      <td>1</td>\n",
       "      <td>1</td>\n",
       "      <td>0</td>\n",
       "      <td>0</td>\n",
       "      <td>0</td>\n",
       "      <td>0</td>\n",
       "      <td>1</td>\n",
       "      <td>0</td>\n",
       "      <td>0</td>\n",
       "    </tr>\n",
       "    <tr>\n",
       "      <th>5</th>\n",
       "      <td>0</td>\n",
       "      <td>1</td>\n",
       "      <td>0</td>\n",
       "      <td>0</td>\n",
       "      <td>0</td>\n",
       "      <td>1</td>\n",
       "      <td>0</td>\n",
       "      <td>1</td>\n",
       "      <td>1</td>\n",
       "      <td>1</td>\n",
       "      <td>0</td>\n",
       "      <td>0</td>\n",
       "      <td>1</td>\n",
       "      <td>0</td>\n",
       "      <td>0</td>\n",
       "    </tr>\n",
       "    <tr>\n",
       "      <th>6</th>\n",
       "      <td>0</td>\n",
       "      <td>0</td>\n",
       "      <td>0</td>\n",
       "      <td>0</td>\n",
       "      <td>0</td>\n",
       "      <td>1</td>\n",
       "      <td>0</td>\n",
       "      <td>1</td>\n",
       "      <td>0</td>\n",
       "      <td>0</td>\n",
       "      <td>0</td>\n",
       "      <td>0</td>\n",
       "      <td>1</td>\n",
       "      <td>0</td>\n",
       "      <td>0</td>\n",
       "    </tr>\n",
       "    <tr>\n",
       "      <th>7</th>\n",
       "      <td>1</td>\n",
       "      <td>1</td>\n",
       "      <td>0</td>\n",
       "      <td>0</td>\n",
       "      <td>0</td>\n",
       "      <td>0</td>\n",
       "      <td>1</td>\n",
       "      <td>1</td>\n",
       "      <td>0</td>\n",
       "      <td>1</td>\n",
       "      <td>1</td>\n",
       "      <td>0</td>\n",
       "      <td>0</td>\n",
       "      <td>0</td>\n",
       "      <td>0</td>\n",
       "    </tr>\n",
       "    <tr>\n",
       "      <th>8</th>\n",
       "      <td>1</td>\n",
       "      <td>0</td>\n",
       "      <td>0</td>\n",
       "      <td>0</td>\n",
       "      <td>0</td>\n",
       "      <td>0</td>\n",
       "      <td>1</td>\n",
       "      <td>1</td>\n",
       "      <td>0</td>\n",
       "      <td>1</td>\n",
       "      <td>1</td>\n",
       "      <td>0</td>\n",
       "      <td>0</td>\n",
       "      <td>0</td>\n",
       "      <td>0</td>\n",
       "    </tr>\n",
       "    <tr>\n",
       "      <th>9</th>\n",
       "      <td>0</td>\n",
       "      <td>0</td>\n",
       "      <td>0</td>\n",
       "      <td>0</td>\n",
       "      <td>0</td>\n",
       "      <td>1</td>\n",
       "      <td>1</td>\n",
       "      <td>1</td>\n",
       "      <td>0</td>\n",
       "      <td>0</td>\n",
       "      <td>0</td>\n",
       "      <td>0</td>\n",
       "      <td>1</td>\n",
       "      <td>0</td>\n",
       "      <td>0</td>\n",
       "    </tr>\n",
       "  </tbody>\n",
       "</table>\n",
       "</div>"
      ],
      "text/plain": [
       "   new_CONTACTS_W_CUSTOMER_SERVICE  new_AVG_TIME_PER_SITE_VISIT  new_AVG_PREP_VID_TIME  new_LARGEST_ORDER_SIZE  new_MASTER_CLASSES_ATTENDED  new_TOTAL_MEALS_ORDERED  new_CANCELLATIONS_BEFORE_NOON  new_CANCELLATIONS_AFTER_NOON  new_WEEKLY_PLAN  new_TOTAL_PHOTOS_VIEWED  new_UNIQUE_MEALS_PURCH  new_UNIQUE_MEALS_PURCH2  new_MEDIAN_MEAL_RATING1  new_MEDIAN_MEAL_RATING2  new_MEDIAN_MEAL_RATING3\n",
       "0                                1                            0                      0                       0                            0                        0                              0                             0                1                        1                       0                        0                        0                        0                        0\n",
       "1                                0                            0                      0                       0                            0                        1                              1                             1                0                        0                       0                        0                        1                        0                        0\n",
       "2                                1                            0                      0                       0                            0                        0                              0                             1                0                        1                       0                        0                        0                        0                        0\n",
       "3                                1                            0                      0                       0                            0                        0                              0                             1                0                        1                       0                        0                        0                        0                        0\n",
       "4                                0                            0                      0                       0                            0                        1                              1                             1                0                        0                       0                        0                        1                        0                        0\n",
       "5                                0                            1                      0                       0                            0                        1                              0                             1                1                        1                       0                        0                        1                        0                        0\n",
       "6                                0                            0                      0                       0                            0                        1                              0                             1                0                        0                       0                        0                        1                        0                        0\n",
       "7                                1                            1                      0                       0                            0                        0                              1                             1                0                        1                       1                        0                        0                        0                        0\n",
       "8                                1                            0                      0                       0                            0                        0                              1                             1                0                        1                       1                        0                        0                        0                        0\n",
       "9                                0                            0                      0                       0                            0                        1                              1                             1                0                        0                       0                        0                        1                        0                        0"
      ]
     },
     "execution_count": 42,
     "metadata": {},
     "output_type": "execute_result"
    }
   ],
   "source": [
    "#checking results\n",
    "apprentice_df[['new_CONTACTS_W_CUSTOMER_SERVICE', 'new_AVG_TIME_PER_SITE_VISIT', 'new_AVG_PREP_VID_TIME', \n",
    "            'new_LARGEST_ORDER_SIZE', 'new_MASTER_CLASSES_ATTENDED', 'new_TOTAL_MEALS_ORDERED', \n",
    "            'new_CANCELLATIONS_BEFORE_NOON', 'new_CANCELLATIONS_AFTER_NOON', 'new_WEEKLY_PLAN', \n",
    "            'new_TOTAL_PHOTOS_VIEWED','new_UNIQUE_MEALS_PURCH', 'new_UNIQUE_MEALS_PURCH2', \n",
    "            'new_MEDIAN_MEAL_RATING1', 'new_MEDIAN_MEAL_RATING2', 'new_MEDIAN_MEAL_RATING3']].head(n=10)"
   ]
  },
  {
   "cell_type": "markdown",
   "metadata": {},
   "source": [
    "As I created and added new variables based on the tresholds, now I need to see how these new features are related to revenue."
   ]
  },
  {
   "cell_type": "code",
   "execution_count": 43,
   "metadata": {},
   "outputs": [
    {
     "data": {
      "text/plain": [
       "new_MEDIAN_MEAL_RATING2            0.593672\n",
       "new_AVG_PREP_VID_TIME              0.366677\n",
       "new_TOTAL_MEALS_ORDERED            0.358802\n",
       "new_LARGEST_ORDER_SIZE             0.356091\n",
       "new_MASTER_CLASSES_ATTENDED        0.221534\n",
       "new_UNIQUE_MEALS_PURCH             0.210872\n",
       "new_UNIQUE_MEALS_PURCH2            0.107052\n",
       "new_CANCELLATIONS_AFTER_NOON       0.040339\n",
       "new_MEDIAN_MEAL_RATING3            0.037457\n",
       "new_WEEKLY_PLAN                    0.032196\n",
       "new_AVG_TIME_PER_SITE_VISIT        0.027340\n",
       "new_MEDIAN_MEAL_RATING1            0.003315\n",
       "new_CANCELLATIONS_BEFORE_NOON     -0.024267\n",
       "new_CONTACTS_W_CUSTOMER_SERVICE   -0.359522\n",
       "new_TOTAL_PHOTOS_VIEWED           -0.372072\n",
       "Name: REVENUE, dtype: float64"
      ]
     },
     "execution_count": 43,
     "metadata": {},
     "output_type": "execute_result"
    }
   ],
   "source": [
    "# Checking the correlations of the new values with revenue\n",
    "trend_corr = apprentice_df.corr()\n",
    "trend_corr.loc['REVENUE',['new_CONTACTS_W_CUSTOMER_SERVICE', 'new_AVG_TIME_PER_SITE_VISIT', 'new_AVG_PREP_VID_TIME', \n",
    "            'new_LARGEST_ORDER_SIZE', 'new_MASTER_CLASSES_ATTENDED', 'new_TOTAL_MEALS_ORDERED', \n",
    "            'new_CANCELLATIONS_BEFORE_NOON', 'new_CANCELLATIONS_AFTER_NOON', 'new_WEEKLY_PLAN', \n",
    "            'new_TOTAL_PHOTOS_VIEWED','new_UNIQUE_MEALS_PURCH', 'new_UNIQUE_MEALS_PURCH2', \n",
    "            'new_MEDIAN_MEAL_RATING1', 'new_MEDIAN_MEAL_RATING2', 'new_MEDIAN_MEAL_RATING3']].sort_values(ascending = False)"
   ]
  },
  {
   "cell_type": "markdown",
   "metadata": {},
   "source": [
    "Adding each variable one-by-one would be a long process. Instead, I will use  a loop that will print each explanatory variable."
   ]
  },
  {
   "cell_type": "code",
   "execution_count": 44,
   "metadata": {},
   "outputs": [
    {
     "name": "stdout",
     "output_type": "stream",
     "text": [
      "CROSS_SELL_SUCCESS +\n",
      "TOTAL_MEALS_ORDERED +\n",
      "UNIQUE_MEALS_PURCH +\n",
      "CONTACTS_W_CUSTOMER_SERVICE +\n",
      "PRODUCT_CATEGORIES_VIEWED +\n",
      "AVG_TIME_PER_SITE_VISIT +\n",
      "MOBILE_NUMBER +\n",
      "CANCELLATIONS_BEFORE_NOON +\n",
      "CANCELLATIONS_AFTER_NOON +\n",
      "TASTES_AND_PREFERENCES +\n",
      "PC_LOGINS +\n",
      "MOBILE_LOGINS +\n",
      "WEEKLY_PLAN +\n",
      "EARLY_DELIVERIES +\n",
      "LATE_DELIVERIES +\n",
      "PACKAGE_LOCKER +\n",
      "REFRIGERATED_LOCKER +\n",
      "AVG_PREP_VID_TIME +\n",
      "LARGEST_ORDER_SIZE +\n",
      "MASTER_CLASSES_ATTENDED +\n",
      "MEDIAN_MEAL_RATING +\n",
      "AVG_CLICKS_PER_VISIT +\n",
      "TOTAL_PHOTOS_VIEWED +\n",
      "PERSONAL +\n",
      "PROFESSIONAL +\n",
      "SPAM +\n",
      "log_LARGEST_ORDER_SIZE +\n",
      "log_AVG_CLICKS_PER_VISIT +\n",
      "new_CONTACTS_W_CUSTOMER_SERVICE +\n",
      "new_AVG_TIME_PER_SITE_VISIT +\n",
      "new_AVG_PREP_VID_TIME +\n",
      "new_LARGEST_ORDER_SIZE +\n",
      "new_MASTER_CLASSES_ATTENDED +\n",
      "new_TOTAL_MEALS_ORDERED +\n",
      "new_CANCELLATIONS_BEFORE_NOON +\n",
      "new_CANCELLATIONS_AFTER_NOON +\n",
      "new_WEEKLY_PLAN +\n",
      "new_TOTAL_PHOTOS_VIEWED +\n",
      "new_UNIQUE_MEALS_PURCH +\n",
      "new_UNIQUE_MEALS_PURCH2 +\n",
      "new_MEDIAN_MEAL_RATING1 +\n",
      "new_MEDIAN_MEAL_RATING2 +\n",
      "new_MEDIAN_MEAL_RATING3 +\n"
     ]
    }
   ],
   "source": [
    "# making a copy of housing\n",
    "apprentice_df_explanatory = apprentice_df.copy()\n",
    "# dropping SalePrice and Order from the explanatory variable set\n",
    "apprentice_df_explanatory = apprentice_df_explanatory.drop(['REVENUE','log_REVENUE',\n",
    "                                                'NAME', 'FIRST_NAME', 'FAMILY_NAME'], axis = 1)\n",
    "# formatting each explanatory variable for statsmodels\n",
    "for val in apprentice_df_explanatory:\n",
    "    print(f\"{val} +\")"
   ]
  },
  {
   "cell_type": "markdown",
   "metadata": {},
   "source": [
    "## Developing Full Model"
   ]
  },
  {
   "cell_type": "markdown",
   "metadata": {},
   "source": [
    "### Full Model with Revenue\n",
    "I will create first full model using all of the variables outputted from the loop."
   ]
  },
  {
   "cell_type": "code",
   "execution_count": 45,
   "metadata": {},
   "outputs": [
    {
     "name": "stdout",
     "output_type": "stream",
     "text": [
      "                            OLS Regression Results                            \n",
      "==============================================================================\n",
      "Dep. Variable:                REVENUE   R-squared:                       0.770\n",
      "Model:                            OLS   Adj. R-squared:                  0.765\n",
      "Method:                 Least Squares   F-statistic:                     151.7\n",
      "Date:                Wed, 27 Jan 2021   Prob (F-statistic):               0.00\n",
      "Time:                        23:08:26   Log-Likelihood:                -15025.\n",
      "No. Observations:                1946   AIC:                         3.014e+04\n",
      "Df Residuals:                    1903   BIC:                         3.038e+04\n",
      "Df Model:                          42                                         \n",
      "Covariance Type:            nonrobust                                         \n",
      "===================================================================================================\n",
      "                                      coef    std err          t      P>|t|      [0.025      0.975]\n",
      "---------------------------------------------------------------------------------------------------\n",
      "Intercept                        2035.4679   1010.997      2.013      0.044      52.689    4018.247\n",
      "CROSS_SELL_SUCCESS                -57.9077     29.180     -1.984      0.047    -115.136      -0.679\n",
      "TOTAL_MEALS_ORDERED                 4.1102      0.300     13.710      0.000       3.522       4.698\n",
      "UNIQUE_MEALS_PURCH                  3.9154      5.862      0.668      0.504      -7.581      15.411\n",
      "CONTACTS_W_CUSTOMER_SERVICE       121.2837      9.208     13.172      0.000     103.225     139.342\n",
      "PRODUCT_CATEGORIES_VIEWED           3.3026      4.169      0.792      0.428      -4.874      11.480\n",
      "AVG_TIME_PER_SITE_VISIT             0.5405      0.273      1.978      0.048       0.004       1.076\n",
      "MOBILE_NUMBER                      31.7151     38.901      0.815      0.415     -44.577     108.007\n",
      "CANCELLATIONS_BEFORE_NOON           3.1330     10.858      0.289      0.773     -18.162      24.427\n",
      "CANCELLATIONS_AFTER_NOON           49.4277     84.852      0.583      0.560    -116.985     215.841\n",
      "TASTES_AND_PREFERENCES             12.8788     28.077      0.459      0.647     -42.187      67.945\n",
      "PC_LOGINS                          -8.9272     21.757     -0.410      0.682     -51.598      33.744\n",
      "MOBILE_LOGINS                     -12.4023     24.030     -0.516      0.606     -59.530      34.725\n",
      "WEEKLY_PLAN                         1.3400      1.059      1.266      0.206      -0.736       3.416\n",
      "EARLY_DELIVERIES                   -0.9466      5.443     -0.174      0.862     -11.622       9.729\n",
      "LATE_DELIVERIES                     9.2256      4.597      2.007      0.045       0.210      18.241\n",
      "PACKAGE_LOCKER                     -4.8612     30.144     -0.161      0.872     -63.981      54.258\n",
      "REFRIGERATED_LOCKER               -29.6605     45.649     -0.650      0.516    -119.188      59.867\n",
      "AVG_PREP_VID_TIME                   8.0781      0.572     14.134      0.000       6.957       9.199\n",
      "LARGEST_ORDER_SIZE               -179.8591     42.103     -4.272      0.000    -262.433     -97.285\n",
      "MASTER_CLASSES_ATTENDED           145.0932     30.282      4.791      0.000      85.704     204.482\n",
      "MEDIAN_MEAL_RATING                 25.9929     65.839      0.395      0.693    -103.131     155.117\n",
      "AVG_CLICKS_PER_VISIT               82.3223     60.892      1.352      0.177     -37.100     201.745\n",
      "TOTAL_PHOTOS_VIEWED                 0.3677      0.106      3.462      0.001       0.159       0.576\n",
      "PERSONAL                          669.3676    337.012      1.986      0.047       8.416    1330.320\n",
      "PROFESSIONAL                      688.2530    337.355      2.040      0.041      26.628    1349.878\n",
      "SPAM                              677.8473    338.308      2.004      0.045      14.354    1341.340\n",
      "log_LARGEST_ORDER_SIZE            683.2556    340.120      2.009      0.045      16.208    1350.303\n",
      "log_AVG_CLICKS_PER_VISIT        -2575.1497   1809.731     -1.423      0.155   -6124.415     974.115\n",
      "new_CONTACTS_W_CUSTOMER_SERVICE -2419.6521    567.423     -4.264      0.000   -3532.489   -1306.816\n",
      "new_AVG_TIME_PER_SITE_VISIT       -73.7905     70.505     -1.047      0.295    -212.067      64.486\n",
      "new_AVG_PREP_VID_TIME             132.6862     83.227      1.594      0.111     -30.540     295.912\n",
      "new_LARGEST_ORDER_SIZE             83.6392     53.833      1.554      0.120     -21.938     189.217\n",
      "new_MASTER_CLASSES_ATTENDED        31.6821     63.947      0.495      0.620     -93.732     157.096\n",
      "new_TOTAL_MEALS_ORDERED         -1408.2080    561.154     -2.509      0.012   -2508.750    -307.666\n",
      "new_CANCELLATIONS_BEFORE_NOON       7.4183     35.208      0.211      0.833     -61.632      76.469\n",
      "new_CANCELLATIONS_AFTER_NOON       86.6076    104.623      0.828      0.408    -118.580     291.795\n",
      "new_WEEKLY_PLAN                    63.1282     33.431      1.888      0.059      -2.437     128.694\n",
      "new_TOTAL_PHOTOS_VIEWED           -37.2938     37.346     -0.999      0.318    -110.537      35.949\n",
      "new_UNIQUE_MEALS_PURCH           1303.1588     52.340     24.898      0.000    1200.509    1405.809\n",
      "new_UNIQUE_MEALS_PURCH2           481.4288    215.621      2.233      0.026      58.549     904.308\n",
      "new_MEDIAN_MEAL_RATING1           157.9213     82.210      1.921      0.055      -3.309     319.152\n",
      "new_MEDIAN_MEAL_RATING2          1017.5243    157.600      6.456      0.000     708.438    1326.610\n",
      "new_MEDIAN_MEAL_RATING3          -102.5468    302.017     -0.340      0.734    -694.867     489.773\n",
      "==============================================================================\n",
      "Omnibus:                      659.229   Durbin-Watson:                   1.988\n",
      "Prob(Omnibus):                  0.000   Jarque-Bera (JB):            11825.679\n",
      "Skew:                           1.119   Prob(JB):                         0.00\n",
      "Kurtosis:                      14.867   Cond. No.                     3.02e+15\n",
      "==============================================================================\n",
      "\n",
      "Warnings:\n",
      "[1] Standard Errors assume that the covariance matrix of the errors is correctly specified.\n",
      "[2] The smallest eigenvalue is 1.48e-23. This might indicate that there are\n",
      "strong multicollinearity problems or that the design matrix is singular.\n"
     ]
    }
   ],
   "source": [
    "# Building a full-model\n",
    "lm_full = smf.ols(formula =  \"\"\"REVENUE ~ CROSS_SELL_SUCCESS +\n",
    "                                            TOTAL_MEALS_ORDERED +\n",
    "                                            UNIQUE_MEALS_PURCH +\n",
    "                                            CONTACTS_W_CUSTOMER_SERVICE +\n",
    "                                            PRODUCT_CATEGORIES_VIEWED +\n",
    "                                            AVG_TIME_PER_SITE_VISIT +\n",
    "                                            MOBILE_NUMBER +\n",
    "                                            CANCELLATIONS_BEFORE_NOON +\n",
    "                                            CANCELLATIONS_AFTER_NOON +\n",
    "                                            TASTES_AND_PREFERENCES +\n",
    "                                            PC_LOGINS +\n",
    "                                            MOBILE_LOGINS +\n",
    "                                            WEEKLY_PLAN +\n",
    "                                            EARLY_DELIVERIES +\n",
    "                                            LATE_DELIVERIES +\n",
    "                                            PACKAGE_LOCKER +\n",
    "                                            REFRIGERATED_LOCKER +\n",
    "                                            AVG_PREP_VID_TIME +\n",
    "                                            LARGEST_ORDER_SIZE +\n",
    "                                            MASTER_CLASSES_ATTENDED +\n",
    "                                            MEDIAN_MEAL_RATING +\n",
    "                                            AVG_CLICKS_PER_VISIT +\n",
    "                                            TOTAL_PHOTOS_VIEWED +\n",
    "                                            PERSONAL +\n",
    "                                            PROFESSIONAL +\n",
    "                                            SPAM +\n",
    "                                            log_LARGEST_ORDER_SIZE +\n",
    "                                            log_AVG_CLICKS_PER_VISIT +\n",
    "                                            new_CONTACTS_W_CUSTOMER_SERVICE +\n",
    "                                            new_AVG_TIME_PER_SITE_VISIT +\n",
    "                                            new_AVG_PREP_VID_TIME +\n",
    "                                            new_LARGEST_ORDER_SIZE +\n",
    "                                            new_MASTER_CLASSES_ATTENDED +\n",
    "                                            new_TOTAL_MEALS_ORDERED +\n",
    "                                            new_CANCELLATIONS_BEFORE_NOON +\n",
    "                                            new_CANCELLATIONS_AFTER_NOON +\n",
    "                                            new_WEEKLY_PLAN +\n",
    "                                            new_TOTAL_PHOTOS_VIEWED +\n",
    "                                            new_UNIQUE_MEALS_PURCH +\n",
    "                                            new_UNIQUE_MEALS_PURCH2 +\n",
    "                                            new_MEDIAN_MEAL_RATING1 +\n",
    "                                            new_MEDIAN_MEAL_RATING2 +\n",
    "                                            new_MEDIAN_MEAL_RATING3 \"\"\",\n",
    "                                  data = apprentice_df)\n",
    "\n",
    "# Step 2: FIT the data into the model object\n",
    "results = lm_full.fit()\n",
    "\n",
    "# Step 3: analyze the SUMMARY output\n",
    "print(results.summary())"
   ]
  },
  {
   "cell_type": "markdown",
   "metadata": {},
   "source": [
    "### Full Model with Log Revenue \n",
    "As we landed on better results with log transformed revenue on our base model, here I ran our first full model with transformed revenue which increased the adj R-sqr from 0.770 to 0.817.\n"
   ]
  },
  {
   "cell_type": "code",
   "execution_count": 46,
   "metadata": {
    "scrolled": true
   },
   "outputs": [
    {
     "name": "stdout",
     "output_type": "stream",
     "text": [
      "                            OLS Regression Results                            \n",
      "==============================================================================\n",
      "Dep. Variable:            log_REVENUE   R-squared:                       0.817\n",
      "Model:                            OLS   Adj. R-squared:                  0.813\n",
      "Method:                 Least Squares   F-statistic:                     202.2\n",
      "Date:                Wed, 27 Jan 2021   Prob (F-statistic):               0.00\n",
      "Time:                        23:08:26   Log-Likelihood:                 1911.9\n",
      "No. Observations:                1946   AIC:                            -3738.\n",
      "Df Residuals:                    1903   BIC:                            -3498.\n",
      "Df Model:                          42                                         \n",
      "Covariance Type:            nonrobust                                         \n",
      "===================================================================================================\n",
      "                                      coef    std err          t      P>|t|      [0.025      0.975]\n",
      "---------------------------------------------------------------------------------------------------\n",
      "Intercept                           2.4244      0.168     14.448      0.000       2.095       2.753\n",
      "CROSS_SELL_SUCCESS                 -0.0081      0.005     -1.668      0.095      -0.018       0.001\n",
      "TOTAL_MEALS_ORDERED                 0.0007   4.98e-05     13.453      0.000       0.001       0.001\n",
      "UNIQUE_MEALS_PURCH                  0.0008      0.001      0.831      0.406      -0.001       0.003\n",
      "CONTACTS_W_CUSTOMER_SERVICE         0.0225      0.002     14.728      0.000       0.020       0.026\n",
      "PRODUCT_CATEGORIES_VIEWED           0.0006      0.001      0.929      0.353      -0.001       0.002\n",
      "AVG_TIME_PER_SITE_VISIT             0.0001   4.54e-05      2.427      0.015    2.11e-05       0.000\n",
      "MOBILE_NUMBER                       0.0080      0.006      1.244      0.214      -0.005       0.021\n",
      "CANCELLATIONS_BEFORE_NOON           0.0008      0.002      0.466      0.642      -0.003       0.004\n",
      "CANCELLATIONS_AFTER_NOON            0.0059      0.014      0.419      0.675      -0.022       0.034\n",
      "TASTES_AND_PREFERENCES              0.0034      0.005      0.738      0.460      -0.006       0.013\n",
      "PC_LOGINS                          -0.0032      0.004     -0.872      0.383      -0.010       0.004\n",
      "MOBILE_LOGINS                   -5.441e-05      0.004     -0.014      0.989      -0.008       0.008\n",
      "WEEKLY_PLAN                         0.0002      0.000      0.941      0.347      -0.000       0.001\n",
      "EARLY_DELIVERIES                   -0.0013      0.001     -1.411      0.158      -0.003       0.000\n",
      "LATE_DELIVERIES                     0.0004      0.001      0.582      0.561      -0.001       0.002\n",
      "PACKAGE_LOCKER                     -0.0046      0.005     -0.920      0.358      -0.014       0.005\n",
      "REFRIGERATED_LOCKER                -0.0103      0.008     -1.354      0.176      -0.025       0.005\n",
      "AVG_PREP_VID_TIME                   0.0015   9.49e-05     16.129      0.000       0.001       0.002\n",
      "LARGEST_ORDER_SIZE                 -0.0371      0.007     -5.304      0.000      -0.051      -0.023\n",
      "MASTER_CLASSES_ATTENDED             0.0293      0.005      5.824      0.000       0.019       0.039\n",
      "MEDIAN_MEAL_RATING                  0.0245      0.011      2.241      0.025       0.003       0.046\n",
      "AVG_CLICKS_PER_VISIT                0.0121      0.010      1.193      0.233      -0.008       0.032\n",
      "TOTAL_PHOTOS_VIEWED              9.838e-07   1.76e-05      0.056      0.955   -3.36e-05    3.55e-05\n",
      "PERSONAL                            0.8062      0.056     14.412      0.000       0.696       0.916\n",
      "PROFESSIONAL                        0.8080      0.056     14.430      0.000       0.698       0.918\n",
      "SPAM                                0.8102      0.056     14.429      0.000       0.700       0.920\n",
      "log_LARGEST_ORDER_SIZE              0.2029      0.056      3.595      0.000       0.092       0.314\n",
      "log_AVG_CLICKS_PER_VISIT           -0.3685      0.300     -1.227      0.220      -0.958       0.221\n",
      "new_CONTACTS_W_CUSTOMER_SERVICE    -0.5145      0.094     -5.463      0.000      -0.699      -0.330\n",
      "new_AVG_TIME_PER_SITE_VISIT        -0.0117      0.012     -1.002      0.316      -0.035       0.011\n",
      "new_AVG_PREP_VID_TIME              -0.0190      0.014     -1.376      0.169      -0.046       0.008\n",
      "new_LARGEST_ORDER_SIZE              0.0105      0.009      1.176      0.240      -0.007       0.028\n",
      "new_MASTER_CLASSES_ATTENDED        -0.0090      0.011     -0.849      0.396      -0.030       0.012\n",
      "new_TOTAL_MEALS_ORDERED            -0.2230      0.093     -2.394      0.017      -0.406      -0.040\n",
      "new_CANCELLATIONS_BEFORE_NOON       0.0040      0.006      0.685      0.493      -0.007       0.015\n",
      "new_CANCELLATIONS_AFTER_NOON        0.0148      0.017      0.853      0.394      -0.019       0.049\n",
      "new_WEEKLY_PLAN                     0.0107      0.006      1.922      0.055      -0.000       0.022\n",
      "new_TOTAL_PHOTOS_VIEWED            -0.0260      0.006     -4.186      0.000      -0.038      -0.014\n",
      "new_UNIQUE_MEALS_PURCH              0.2450      0.009     28.207      0.000       0.228       0.262\n",
      "new_UNIQUE_MEALS_PURCH2             0.0580      0.036      1.620      0.105      -0.012       0.128\n",
      "new_MEDIAN_MEAL_RATING1             0.0266      0.014      1.946      0.052      -0.000       0.053\n",
      "new_MEDIAN_MEAL_RATING2             0.1230      0.026      4.704      0.000       0.072       0.174\n",
      "new_MEDIAN_MEAL_RATING3            -0.0382      0.050     -0.762      0.446      -0.137       0.060\n",
      "==============================================================================\n",
      "Omnibus:                      582.013   Durbin-Watson:                   2.029\n",
      "Prob(Omnibus):                  0.000   Jarque-Bera (JB):             7846.008\n",
      "Skew:                          -1.019   Prob(JB):                         0.00\n",
      "Kurtosis:                      12.623   Cond. No.                     3.02e+15\n",
      "==============================================================================\n",
      "\n",
      "Warnings:\n",
      "[1] Standard Errors assume that the covariance matrix of the errors is correctly specified.\n",
      "[2] The smallest eigenvalue is 1.48e-23. This might indicate that there are\n",
      "strong multicollinearity problems or that the design matrix is singular.\n"
     ]
    }
   ],
   "source": [
    "# Building a full-model\n",
    "lm_full = smf.ols(formula =  \"\"\"log_REVENUE ~ CROSS_SELL_SUCCESS +\n",
    "                                            TOTAL_MEALS_ORDERED +\n",
    "                                            UNIQUE_MEALS_PURCH +\n",
    "                                            CONTACTS_W_CUSTOMER_SERVICE +\n",
    "                                            PRODUCT_CATEGORIES_VIEWED +\n",
    "                                            AVG_TIME_PER_SITE_VISIT +\n",
    "                                            MOBILE_NUMBER +\n",
    "                                            CANCELLATIONS_BEFORE_NOON +\n",
    "                                            CANCELLATIONS_AFTER_NOON +\n",
    "                                            TASTES_AND_PREFERENCES +\n",
    "                                            PC_LOGINS +\n",
    "                                            MOBILE_LOGINS +\n",
    "                                            WEEKLY_PLAN +\n",
    "                                            EARLY_DELIVERIES +\n",
    "                                            LATE_DELIVERIES +\n",
    "                                            PACKAGE_LOCKER +\n",
    "                                            REFRIGERATED_LOCKER +\n",
    "                                            AVG_PREP_VID_TIME +\n",
    "                                            LARGEST_ORDER_SIZE +\n",
    "                                            MASTER_CLASSES_ATTENDED +\n",
    "                                            MEDIAN_MEAL_RATING +\n",
    "                                            AVG_CLICKS_PER_VISIT +\n",
    "                                            TOTAL_PHOTOS_VIEWED +\n",
    "                                            PERSONAL +\n",
    "                                            PROFESSIONAL +\n",
    "                                            SPAM +\n",
    "                                            log_LARGEST_ORDER_SIZE +\n",
    "                                            log_AVG_CLICKS_PER_VISIT +\n",
    "                                            new_CONTACTS_W_CUSTOMER_SERVICE +\n",
    "                                            new_AVG_TIME_PER_SITE_VISIT +\n",
    "                                            new_AVG_PREP_VID_TIME +\n",
    "                                            new_LARGEST_ORDER_SIZE +\n",
    "                                            new_MASTER_CLASSES_ATTENDED +\n",
    "                                            new_TOTAL_MEALS_ORDERED +\n",
    "                                            new_CANCELLATIONS_BEFORE_NOON +\n",
    "                                            new_CANCELLATIONS_AFTER_NOON +\n",
    "                                            new_WEEKLY_PLAN +\n",
    "                                            new_TOTAL_PHOTOS_VIEWED +\n",
    "                                            new_UNIQUE_MEALS_PURCH +\n",
    "                                            new_UNIQUE_MEALS_PURCH2 +\n",
    "                                            new_MEDIAN_MEAL_RATING1 +\n",
    "                                            new_MEDIAN_MEAL_RATING2 +\n",
    "                                            new_MEDIAN_MEAL_RATING3 \"\"\",\n",
    "                                  data = apprentice_df)\n",
    "\n",
    "# Step 2: FIT the data into the model object\n",
    "results = lm_full.fit()\n",
    "\n",
    "# Step 3: analyze the SUMMARY output\n",
    "print(results.summary())"
   ]
  },
  {
   "cell_type": "markdown",
   "metadata": {},
   "source": [
    "In the next step I will take the variables away which are insignificant for our model. (p-value < 0.05)"
   ]
  },
  {
   "cell_type": "code",
   "execution_count": 47,
   "metadata": {},
   "outputs": [
    {
     "name": "stdout",
     "output_type": "stream",
     "text": [
      "                            OLS Regression Results                            \n",
      "==============================================================================\n",
      "Dep. Variable:            log_REVENUE   R-squared:                       0.813\n",
      "Model:                            OLS   Adj. R-squared:                  0.811\n",
      "Method:                 Least Squares   F-statistic:                     558.5\n",
      "Date:                Wed, 27 Jan 2021   Prob (F-statistic):               0.00\n",
      "Time:                        23:08:27   Log-Likelihood:                 1889.8\n",
      "No. Observations:                1946   AIC:                            -3748.\n",
      "Df Residuals:                    1930   BIC:                            -3658.\n",
      "Df Model:                          15                                         \n",
      "Covariance Type:            nonrobust                                         \n",
      "===================================================================================================\n",
      "                                      coef    std err          t      P>|t|      [0.025      0.975]\n",
      "---------------------------------------------------------------------------------------------------\n",
      "Intercept                           2.2244      0.070     31.622      0.000       2.086       2.362\n",
      "TOTAL_MEALS_ORDERED                 0.0007   4.84e-05     14.212      0.000       0.001       0.001\n",
      "CONTACTS_W_CUSTOMER_SERVICE         0.0232      0.002     15.380      0.000       0.020       0.026\n",
      "AVG_TIME_PER_SITE_VISIT          8.539e-05   3.62e-05      2.357      0.019    1.43e-05       0.000\n",
      "AVG_PREP_VID_TIME                   0.0015   8.54e-05     17.363      0.000       0.001       0.002\n",
      "LARGEST_ORDER_SIZE                 -0.0346      0.006     -6.226      0.000      -0.045      -0.024\n",
      "MASTER_CLASSES_ATTENDED             0.0265      0.004      6.882      0.000       0.019       0.034\n",
      "MEDIAN_MEAL_RATING                  0.0375      0.004      9.088      0.000       0.029       0.046\n",
      "PERSONAL                            0.7392      0.024     31.364      0.000       0.693       0.785\n",
      "PROFESSIONAL                        0.7400      0.024     31.205      0.000       0.694       0.787\n",
      "SPAM                                0.7452      0.024     31.465      0.000       0.699       0.792\n",
      "log_LARGEST_ORDER_SIZE              0.2036      0.049      4.137      0.000       0.107       0.300\n",
      "new_CONTACTS_W_CUSTOMER_SERVICE    -0.5166      0.094     -5.499      0.000      -0.701      -0.332\n",
      "new_TOTAL_MEALS_ORDERED            -0.2190      0.093     -2.355      0.019      -0.401      -0.037\n",
      "new_TOTAL_PHOTOS_VIEWED            -0.0260      0.005     -5.513      0.000      -0.035      -0.017\n",
      "new_UNIQUE_MEALS_PURCH              0.2410      0.008     31.573      0.000       0.226       0.256\n",
      "new_MEDIAN_MEAL_RATING2             0.0928      0.008     10.941      0.000       0.076       0.109\n",
      "==============================================================================\n",
      "Omnibus:                      575.269   Durbin-Watson:                   2.026\n",
      "Prob(Omnibus):                  0.000   Jarque-Bera (JB):             7707.616\n",
      "Skew:                          -1.005   Prob(JB):                         0.00\n",
      "Kurtosis:                      12.540   Cond. No.                     8.27e+17\n",
      "==============================================================================\n",
      "\n",
      "Warnings:\n",
      "[1] Standard Errors assume that the covariance matrix of the errors is correctly specified.\n",
      "[2] The smallest eigenvalue is 1.22e-28. This might indicate that there are\n",
      "strong multicollinearity problems or that the design matrix is singular.\n"
     ]
    }
   ],
   "source": [
    "# Building a full-model\n",
    "lm_full = smf.ols(formula =  \"\"\"log_REVENUE ~ TOTAL_MEALS_ORDERED +\n",
    "                                            CONTACTS_W_CUSTOMER_SERVICE +\n",
    "                                            AVG_TIME_PER_SITE_VISIT +\n",
    "                                            AVG_PREP_VID_TIME +\n",
    "                                            LARGEST_ORDER_SIZE +\n",
    "                                            MASTER_CLASSES_ATTENDED +\n",
    "                                            MEDIAN_MEAL_RATING +\n",
    "                                            PERSONAL +\n",
    "                                            PROFESSIONAL +\n",
    "                                            SPAM +\n",
    "                                            log_LARGEST_ORDER_SIZE +\n",
    "                                            new_CONTACTS_W_CUSTOMER_SERVICE +\n",
    "                                            new_TOTAL_MEALS_ORDERED +\n",
    "                                            new_TOTAL_PHOTOS_VIEWED +\n",
    "                                            new_UNIQUE_MEALS_PURCH +\n",
    "                                            new_MEDIAN_MEAL_RATING2 \"\"\",\n",
    "                                  data = apprentice_df)\n",
    "\n",
    "# Step 2: FIT the data into the model object\n",
    "results = lm_full.fit()\n",
    "\n",
    "# Step 3: analyze the SUMMARY output\n",
    "print(results.summary())"
   ]
  },
  {
   "cell_type": "markdown",
   "metadata": {},
   "source": [
    "In order to work with statsmodels, I need to concatenate our training data on the 'x' side (X_train) and our training data on the 'y' side (y_train). Then, I can begin building models and analyze their results. First I will test the best model from our previous session to see how it performs. My goal here is to ensure that the p-values are still significant after splitting the dataset."
   ]
  },
  {
   "cell_type": "code",
   "execution_count": 48,
   "metadata": {},
   "outputs": [
    {
     "name": "stdout",
     "output_type": "stream",
     "text": [
      "TOTAL_MEALS_ORDERED +\n",
      "CONTACTS_W_CUSTOMER_SERVICE +\n",
      "AVG_TIME_PER_SITE_VISIT +\n",
      "AVG_PREP_VID_TIME +\n",
      "LARGEST_ORDER_SIZE +\n",
      "MASTER_CLASSES_ATTENDED +\n",
      "MEDIAN_MEAL_RATING +\n",
      "PERSONAL +\n",
      "PROFESSIONAL +\n",
      "SPAM +\n",
      "log_LARGEST_ORDER_SIZE +\n",
      "new_CONTACTS_W_CUSTOMER_SERVICE +\n",
      "new_TOTAL_MEALS_ORDERED +\n",
      "new_TOTAL_PHOTOS_VIEWED +\n",
      "new_UNIQUE_MEALS_PURCH +\n",
      "new_MEDIAN_MEAL_RATING2 +\n"
     ]
    }
   ],
   "source": [
    "# declaring set of x-variables with only significant variables\n",
    "x_variables = ['TOTAL_MEALS_ORDERED','CONTACTS_W_CUSTOMER_SERVICE', 'AVG_TIME_PER_SITE_VISIT', 'AVG_PREP_VID_TIME',\n",
    "               'LARGEST_ORDER_SIZE', 'MASTER_CLASSES_ATTENDED', 'MEDIAN_MEAL_RATING', 'PERSONAL', 'PROFESSIONAL',\n",
    "                'SPAM', 'log_LARGEST_ORDER_SIZE', 'new_CONTACTS_W_CUSTOMER_SERVICE', 'new_TOTAL_MEALS_ORDERED',\n",
    "                'new_TOTAL_PHOTOS_VIEWED', 'new_UNIQUE_MEALS_PURCH', 'new_MEDIAN_MEAL_RATING2']\n",
    "\n",
    "\n",
    "# looping to make x-variables suitable for statsmodels\n",
    "for val in x_variables:\n",
    "    print(f\"{val} +\")"
   ]
  },
  {
   "cell_type": "markdown",
   "metadata": {},
   "source": [
    "## Model Selection\n",
    "### Training and Testing Datasets\n",
    "\n",
    "In order to apply regression model in scikit-learn; First I will set data to the x_variables list. Then set target to log_REVENUE and run train_test_split with a test_size of 0.25 and a random_state of 219."
   ]
  },
  {
   "cell_type": "code",
   "execution_count": 49,
   "metadata": {},
   "outputs": [],
   "source": [
    "# preparing x variables from the full model\n",
    "apprentice_df_full = apprentice_df.drop(['REVENUE','log_REVENUE', 'NAME', 'FIRST_NAME', 'FAMILY_NAME'], axis = 1)\n",
    "\n",
    "# preparing x-variables from the OLS model\n",
    "apprentice_df_ols = apprentice_df[x_variables]\n",
    "\n",
    "# preparing response variable\n",
    "apprentice_df_target = apprentice_df['log_REVENUE']\n",
    "\n",
    "###############################################\n",
    "## setting up more than one train-test split ##\n",
    "###############################################\n",
    "# FULL X-dataset (normal Y)\n",
    "x_train_FULL, x_test_FULL, y_train_FULL, y_test_FULL = train_test_split(\n",
    "            apprentice_df_full,     # x-variables\n",
    "            apprentice_df_target,   # y-variable\n",
    "            test_size = 0.25,\n",
    "            random_state = 219)\n",
    "\n",
    "# OLS p-value x-dataset (normal Y)\n",
    "x_train_OLS, x_test_OLS, y_train_OLS, y_test_OLS = train_test_split(\n",
    "            apprentice_df_ols,         # x-variables\n",
    "            apprentice_df_target,      # y-variable\n",
    "            test_size = 0.25,\n",
    "            random_state = 219)"
   ]
  },
  {
   "cell_type": "markdown",
   "metadata": {},
   "source": [
    "### OLS : Linear Regression"
   ]
  },
  {
   "cell_type": "code",
   "execution_count": 50,
   "metadata": {},
   "outputs": [
    {
     "name": "stdout",
     "output_type": "stream",
     "text": [
      "OLS Training Score : 0.8119\n",
      "OLS Testing Score  : 0.8121\n",
      "OLS Train-Test Gap : 0.0002\n"
     ]
    }
   ],
   "source": [
    "# INSTANTIATING a model object\n",
    "lr = LinearRegression()\n",
    "\n",
    "# FITTING to the training data\n",
    "lr_fit = lr.fit(x_train_OLS, y_train_OLS)\n",
    "\n",
    "# PREDICTING on new data\n",
    "lr_pred = lr_fit.predict(x_test_OLS)\n",
    "\n",
    "# SCORING the results\n",
    "print('OLS Training Score :', lr.score(x_train_OLS, y_train_OLS).round(4))  # using R-square\n",
    "print('OLS Testing Score  :',  lr.score(x_test_OLS, y_test_OLS).round(4)) # using R-square\n",
    "\n",
    "lr_train_score = lr.score(x_train_OLS, y_train_OLS).round(4)\n",
    "lr_test_score  = lr.score(x_test_OLS, y_test_OLS).round(4)\n",
    "\n",
    "# displaying and saving the gap between training and testing\n",
    "print('OLS Train-Test Gap :', abs(lr_train_score - lr_test_score).round(4))\n",
    "lr_test_gap = abs(lr_train_score - lr_test_score).round(4)"
   ]
  },
  {
   "cell_type": "markdown",
   "metadata": {},
   "source": [
    "After seeing the scores, here I will find the coefficients for variables I used in the model."
   ]
  },
  {
   "cell_type": "code",
   "execution_count": 51,
   "metadata": {
    "scrolled": true
   },
   "outputs": [
    {
     "name": "stdout",
     "output_type": "stream",
     "text": [
      "('intercept', 2.95)\n",
      "('TOTAL_MEALS_ORDERED', 0.0)\n",
      "('CONTACTS_W_CUSTOMER_SERVICE', 0.02)\n",
      "('AVG_TIME_PER_SITE_VISIT', 0.0)\n",
      "('AVG_PREP_VID_TIME', 0.0)\n",
      "('LARGEST_ORDER_SIZE', -0.03)\n",
      "('MASTER_CLASSES_ATTENDED', 0.03)\n",
      "('MEDIAN_MEAL_RATING', 0.04)\n",
      "('PERSONAL', -0.0)\n",
      "('PROFESSIONAL', -0.0)\n",
      "('SPAM', 0.0)\n",
      "('log_LARGEST_ORDER_SIZE', 0.22)\n",
      "('new_CONTACTS_W_CUSTOMER_SERVICE', -0.5)\n",
      "('new_TOTAL_MEALS_ORDERED', -0.21)\n",
      "('new_TOTAL_PHOTOS_VIEWED', -0.02)\n",
      "('new_UNIQUE_MEALS_PURCH', 0.25)\n",
      "('new_MEDIAN_MEAL_RATING2', 0.09)\n"
     ]
    }
   ],
   "source": [
    "# zipping each feature name to its coefficient\n",
    "lr_model_values = zip(apprentice_df_full[x_variables].columns,\n",
    "                      lr_fit.coef_.round(decimals = 2))\n",
    "\n",
    "# setting up a placeholder list to store model features\n",
    "lr_model_lst = [('intercept', lr_fit.intercept_.round(decimals = 2))]\n",
    "\n",
    "# printing out each feature-coefficient pair one by one\n",
    "for val in lr_model_values:\n",
    "    lr_model_lst.append(val)\n",
    "\n",
    "# checking the results\n",
    "for pair in lr_model_lst:\n",
    "    print(pair)"
   ]
  },
  {
   "cell_type": "code",
   "execution_count": 63,
   "metadata": {},
   "outputs": [
    {
     "data": {
      "text/plain": [
       "-18.12692469220182"
      ]
     },
     "execution_count": 63,
     "metadata": {},
     "output_type": "execute_result"
    }
   ],
   "source": [
    "# Interpreting coefficients. (Calculation based on log transformation on response var)\n",
    "import math\n",
    "(math.exp(-0.200)-1)*100"
   ]
  },
  {
   "cell_type": "code",
   "execution_count": null,
   "metadata": {},
   "outputs": [],
   "source": []
  },
  {
   "cell_type": "markdown",
   "metadata": {},
   "source": [
    "I need to drop off zero coefficient variables."
   ]
  },
  {
   "cell_type": "code",
   "execution_count": 52,
   "metadata": {},
   "outputs": [
    {
     "name": "stdout",
     "output_type": "stream",
     "text": [
      "('intercept', 2.95)\n",
      "('CONTACTS_W_CUSTOMER_SERVICE', 0.02)\n",
      "('AVG_PREP_VID_TIME', 0.0)\n",
      "('LARGEST_ORDER_SIZE', -0.03)\n",
      "('MASTER_CLASSES_ATTENDED', 0.03)\n",
      "('MEDIAN_MEAL_RATING', 0.04)\n",
      "('PROFESSIONAL', -0.0)\n",
      "('log_LARGEST_ORDER_SIZE', 0.22)\n",
      "('new_CONTACTS_W_CUSTOMER_SERVICE', -0.5)\n",
      "('new_TOTAL_MEALS_ORDERED', -0.21)\n",
      "('new_TOTAL_PHOTOS_VIEWED', -0.02)\n",
      "('new_UNIQUE_MEALS_PURCH', 0.25)\n",
      "('new_MEDIAN_MEAL_RATING2', 0.09)\n"
     ]
    }
   ],
   "source": [
    "# printing out each feature-coefficient pair one by one\n",
    "for feature, coefficient in lr_model_lst:\n",
    "        \n",
    "        if coefficient == 0:\n",
    "            lr_model_lst.remove((feature, coefficient))\n",
    "            \n",
    "# checking the results\n",
    "for pair in lr_model_lst:\n",
    "    print(pair)"
   ]
  },
  {
   "cell_type": "markdown",
   "metadata": {},
   "source": [
    "### Bayesian Automatic Relevance Determination - ARD Regression"
   ]
  },
  {
   "cell_type": "code",
   "execution_count": 53,
   "metadata": {},
   "outputs": [
    {
     "name": "stdout",
     "output_type": "stream",
     "text": [
      "Training Score: 0.7662\n",
      "Testing Score : 0.7435\n",
      "ARD Train-Test Gap : 0.0227\n"
     ]
    }
   ],
   "source": [
    "# INSTANTIATING a model object\n",
    "ard_model = sklearn.linear_model.ARDRegression(normalize  = False)\n",
    "\n",
    "# FITTING the training data\n",
    "ard_fit = ard_model.fit(x_train_FULL, y_train_FULL)\n",
    "\n",
    "# PREDICTING on new data\n",
    "ard_pred = ard_fit.predict(x_test_FULL)\n",
    "\n",
    "print('Training Score:', ard_model.score(x_train_FULL, y_train_FULL).round(4))\n",
    "print('Testing Score :',  ard_model.score(x_test_FULL, y_test_FULL).round(4))\n",
    "\n",
    "# saving scoring data for future use\n",
    "ard_train_score = ard_model.score(x_train_FULL, y_train_FULL).round(4)\n",
    "ard_test_score  = ard_model.score(x_test_FULL, y_test_FULL).round(4)\n",
    "\n",
    "# displaying and saving the gap between training and testing\n",
    "print('ARD Train-Test Gap :', abs(ard_train_score - ard_test_score).round(4))\n",
    "ard_test_gap = abs(ard_train_score - ard_test_score).round(4)"
   ]
  },
  {
   "cell_type": "markdown",
   "metadata": {},
   "source": [
    "After seeing the scores, here I will find the coefficients for variables I used in the model."
   ]
  },
  {
   "cell_type": "code",
   "execution_count": 54,
   "metadata": {},
   "outputs": [
    {
     "name": "stdout",
     "output_type": "stream",
     "text": [
      "('intercept', 3.11)\n",
      "('CROSS_SELL_SUCCESS', -0.0105)\n",
      "('TOTAL_MEALS_ORDERED', 0.0)\n",
      "('UNIQUE_MEALS_PURCH', 0.0)\n",
      "('CONTACTS_W_CUSTOMER_SERVICE', 0.02952)\n",
      "('PRODUCT_CATEGORIES_VIEWED', 0.0)\n",
      "('AVG_TIME_PER_SITE_VISIT', 0.0)\n",
      "('MOBILE_NUMBER', 0.0)\n",
      "('CANCELLATIONS_BEFORE_NOON', 0.0)\n",
      "('CANCELLATIONS_AFTER_NOON', 0.0)\n",
      "('TASTES_AND_PREFERENCES', 0.0)\n",
      "('PC_LOGINS', 0.0)\n",
      "('MOBILE_LOGINS', 0.0)\n",
      "('WEEKLY_PLAN', 0.0)\n",
      "('EARLY_DELIVERIES', 0.0)\n",
      "('LATE_DELIVERIES', 0.0)\n",
      "('PACKAGE_LOCKER', 0.0)\n",
      "('REFRIGERATED_LOCKER', 0.0)\n",
      "('AVG_PREP_VID_TIME', 0.0)\n",
      "('LARGEST_ORDER_SIZE', 0.0)\n",
      "('MASTER_CLASSES_ATTENDED', 0.05129)\n",
      "('MEDIAN_MEAL_RATING', 0.02734)\n",
      "('AVG_CLICKS_PER_VISIT', 0.0)\n",
      "('TOTAL_PHOTOS_VIEWED', 0.0)\n",
      "('PERSONAL', 0.0)\n",
      "('PROFESSIONAL', 0.0)\n",
      "('SPAM', 0.0)\n",
      "('log_LARGEST_ORDER_SIZE', 0.16023)\n",
      "('log_AVG_CLICKS_PER_VISIT', -0.04906)\n",
      "('new_CONTACTS_W_CUSTOMER_SERVICE', -0.58008)\n",
      "('new_AVG_TIME_PER_SITE_VISIT', 0.0)\n",
      "('new_AVG_PREP_VID_TIME', 0.0904)\n",
      "('new_LARGEST_ORDER_SIZE', 0.0)\n",
      "('new_MASTER_CLASSES_ATTENDED', 0.0)\n",
      "('new_TOTAL_MEALS_ORDERED', -0.20221)\n",
      "('new_CANCELLATIONS_BEFORE_NOON', 0.0)\n",
      "('new_CANCELLATIONS_AFTER_NOON', 0.0)\n",
      "('new_WEEKLY_PLAN', 0.0)\n",
      "('new_TOTAL_PHOTOS_VIEWED', -0.02566)\n",
      "('new_UNIQUE_MEALS_PURCH', 0.23469)\n",
      "('new_UNIQUE_MEALS_PURCH2', 0.10405)\n",
      "('new_MEDIAN_MEAL_RATING1', 0.04086)\n",
      "('new_MEDIAN_MEAL_RATING2', 0.16192)\n",
      "('new_MEDIAN_MEAL_RATING3', 0.0)\n"
     ]
    }
   ],
   "source": [
    "# zipping each feature name to its coefficient\n",
    "ard_model_values = zip(apprentice_df_full.columns, ard_fit.coef_.round(decimals = 5))\n",
    "\n",
    "\n",
    "# setting up a placeholder list to store model features\n",
    "ard_model_lst = [('intercept', ard_fit.intercept_.round(decimals = 2))]\n",
    "\n",
    "\n",
    "# printing out each feature-coefficient pair one by one\n",
    "for val in ard_model_values:\n",
    "    ard_model_lst.append(val)\n",
    "    \n",
    "\n",
    "# checking the results\n",
    "for pair in ard_model_lst:\n",
    "    print(pair)"
   ]
  },
  {
   "cell_type": "markdown",
   "metadata": {},
   "source": [
    "Now, I need to drop off zero coefficient variables."
   ]
  },
  {
   "cell_type": "code",
   "execution_count": 55,
   "metadata": {},
   "outputs": [
    {
     "name": "stdout",
     "output_type": "stream",
     "text": [
      "('intercept', 3.11)\n",
      "('CROSS_SELL_SUCCESS', -0.0105)\n",
      "('UNIQUE_MEALS_PURCH', 0.0)\n",
      "('CONTACTS_W_CUSTOMER_SERVICE', 0.02952)\n",
      "('AVG_TIME_PER_SITE_VISIT', 0.0)\n",
      "('CANCELLATIONS_BEFORE_NOON', 0.0)\n",
      "('TASTES_AND_PREFERENCES', 0.0)\n",
      "('MOBILE_LOGINS', 0.0)\n",
      "('EARLY_DELIVERIES', 0.0)\n",
      "('PACKAGE_LOCKER', 0.0)\n",
      "('AVG_PREP_VID_TIME', 0.0)\n",
      "('MASTER_CLASSES_ATTENDED', 0.05129)\n",
      "('MEDIAN_MEAL_RATING', 0.02734)\n",
      "('TOTAL_PHOTOS_VIEWED', 0.0)\n",
      "('PROFESSIONAL', 0.0)\n",
      "('log_LARGEST_ORDER_SIZE', 0.16023)\n",
      "('log_AVG_CLICKS_PER_VISIT', -0.04906)\n",
      "('new_CONTACTS_W_CUSTOMER_SERVICE', -0.58008)\n",
      "('new_AVG_PREP_VID_TIME', 0.0904)\n",
      "('new_MASTER_CLASSES_ATTENDED', 0.0)\n",
      "('new_TOTAL_MEALS_ORDERED', -0.20221)\n",
      "('new_CANCELLATIONS_AFTER_NOON', 0.0)\n",
      "('new_TOTAL_PHOTOS_VIEWED', -0.02566)\n",
      "('new_UNIQUE_MEALS_PURCH', 0.23469)\n",
      "('new_UNIQUE_MEALS_PURCH2', 0.10405)\n",
      "('new_MEDIAN_MEAL_RATING1', 0.04086)\n",
      "('new_MEDIAN_MEAL_RATING2', 0.16192)\n"
     ]
    }
   ],
   "source": [
    "## This code may have to be run more than once ##\n",
    "# printing out each feature-coefficient pair one by one\n",
    "for feature, coefficient in ard_model_lst:\n",
    "        \n",
    "        if coefficient == 0:\n",
    "            ard_model_lst.remove((feature, coefficient))\n",
    "\n",
    "# checking the results\n",
    "for pair in ard_model_lst:\n",
    "    print(pair)"
   ]
  },
  {
   "cell_type": "markdown",
   "metadata": {},
   "source": [
    "### Lasso Regression Model"
   ]
  },
  {
   "cell_type": "code",
   "execution_count": 56,
   "metadata": {},
   "outputs": [
    {
     "name": "stdout",
     "output_type": "stream",
     "text": [
      "Lasso Training Score : 0.8099\n",
      "Lasso Testing Score  : 0.8071\n",
      "Lasso Train-Test Gap : 0.0028\n"
     ]
    }
   ],
   "source": [
    "# INSTANTIATING a model object\n",
    "lasso_model = sklearn.linear_model.Lasso(alpha     = 0.001,  \n",
    "                                         normalize = False) \n",
    "\n",
    "# FITTING to the training data\n",
    "lasso_fit = lasso_model.fit(x_train_FULL, y_train_FULL)\n",
    "\n",
    "# PREDICTING on new data\n",
    "lasso_pred = lasso_fit.predict(x_test_FULL)\n",
    "\n",
    "# SCORING the results\n",
    "print('Lasso Training Score :', lasso_model.score(x_train_FULL, y_train_FULL).round(4))\n",
    "print('Lasso Testing Score  :', lasso_model.score(x_test_FULL, y_test_FULL).round(4))\n",
    "\n",
    "# saving scoring data for future use\n",
    "lasso_train_score = lasso_model.score(x_train_FULL, y_train_FULL).round(4) # using R-square\n",
    "lasso_test_score  = lasso_model.score(x_test_FULL, y_test_FULL).round(4)   # using R-square\n",
    "\n",
    "\n",
    "# displaying and saving the gap between training and testing\n",
    "print('Lasso Train-Test Gap :', abs(lasso_train_score - lasso_test_score).round(4))\n",
    "lasso_test_gap = abs(lasso_train_score - lasso_test_score).round(4)"
   ]
  },
  {
   "cell_type": "markdown",
   "metadata": {},
   "source": [
    "Below I will play with the alpha value to increase lasso score."
   ]
  },
  {
   "cell_type": "code",
   "execution_count": 57,
   "metadata": {},
   "outputs": [
    {
     "name": "stdout",
     "output_type": "stream",
     "text": [
      "Lasso Training Score : 0.8159\n",
      "Lasso Testing Score  : 0.8111\n",
      "Lasso Train-Test Gap : 0.0048\n"
     ]
    }
   ],
   "source": [
    "# INSTANTIATING a model object\n",
    "lasso_model = sklearn.linear_model.Lasso(alpha     = 0.0001 ,  \n",
    "                                         normalize = False) \n",
    "\n",
    "# FITTING to the training data\n",
    "lasso_fit = lasso_model.fit(x_train_FULL, y_train_FULL)\n",
    "\n",
    "# PREDICTING on new data\n",
    "lasso_pred = lasso_fit.predict(x_test_FULL)\n",
    "\n",
    "# SCORING the results\n",
    "print('Lasso Training Score :', lasso_model.score(x_train_FULL, y_train_FULL).round(4))\n",
    "print('Lasso Testing Score  :', lasso_model.score(x_test_FULL, y_test_FULL).round(4))\n",
    "\n",
    "# saving scoring data for future use\n",
    "lasso_train_score = lasso_model.score(x_train_FULL, y_train_FULL).round(4) # using R-square\n",
    "lasso_test_score  = lasso_model.score(x_test_FULL, y_test_FULL).round(4)   # using R-square\n",
    "\n",
    "# displaying and saving the gap between training and testing\n",
    "print('Lasso Train-Test Gap :', abs(lasso_train_score - lasso_test_score).round(4))\n",
    "lasso_test_gap = abs(lasso_train_score - lasso_test_score).round(4)"
   ]
  },
  {
   "cell_type": "markdown",
   "metadata": {},
   "source": [
    "After seeing the scores, here I will find the coefficients for variables I used in the model."
   ]
  },
  {
   "cell_type": "code",
   "execution_count": 58,
   "metadata": {},
   "outputs": [
    {
     "name": "stdout",
     "output_type": "stream",
     "text": [
      "('intercept', 2.81)\n",
      "('CROSS_SELL_SUCCESS', -0.01)\n",
      "('TOTAL_MEALS_ORDERED', 0.0)\n",
      "('UNIQUE_MEALS_PURCH', -0.0)\n",
      "('CONTACTS_W_CUSTOMER_SERVICE', 0.02)\n",
      "('PRODUCT_CATEGORIES_VIEWED', 0.0)\n",
      "('AVG_TIME_PER_SITE_VISIT', 0.0)\n",
      "('MOBILE_NUMBER', 0.0)\n",
      "('CANCELLATIONS_BEFORE_NOON', 0.0)\n",
      "('CANCELLATIONS_AFTER_NOON', -0.0)\n",
      "('TASTES_AND_PREFERENCES', 0.0)\n",
      "('PC_LOGINS', -0.0)\n",
      "('MOBILE_LOGINS', -0.0)\n",
      "('WEEKLY_PLAN', 0.0)\n",
      "('EARLY_DELIVERIES', -0.0)\n",
      "('LATE_DELIVERIES', 0.0)\n",
      "('PACKAGE_LOCKER', -0.01)\n",
      "('REFRIGERATED_LOCKER', -0.01)\n",
      "('AVG_PREP_VID_TIME', 0.0)\n",
      "('LARGEST_ORDER_SIZE', -0.03)\n",
      "('MASTER_CLASSES_ATTENDED', 0.03)\n",
      "('MEDIAN_MEAL_RATING', 0.02)\n",
      "('AVG_CLICKS_PER_VISIT', -0.0)\n",
      "('TOTAL_PHOTOS_VIEWED', 0.0)\n",
      "('PERSONAL', 0.0)\n",
      "('PROFESSIONAL', 0.0)\n",
      "('SPAM', -0.0)\n",
      "('log_LARGEST_ORDER_SIZE', 0.15)\n",
      "('log_AVG_CLICKS_PER_VISIT', -0.0)\n",
      "('new_CONTACTS_W_CUSTOMER_SERVICE', -0.28)\n",
      "('new_AVG_TIME_PER_SITE_VISIT', -0.01)\n",
      "('new_AVG_PREP_VID_TIME', -0.02)\n",
      "('new_LARGEST_ORDER_SIZE', 0.0)\n",
      "('new_MASTER_CLASSES_ATTENDED', -0.01)\n",
      "('new_TOTAL_MEALS_ORDERED', -0.0)\n",
      "('new_CANCELLATIONS_BEFORE_NOON', 0.0)\n",
      "('new_CANCELLATIONS_AFTER_NOON', 0.0)\n",
      "('new_WEEKLY_PLAN', 0.01)\n",
      "('new_TOTAL_PHOTOS_VIEWED', -0.02)\n",
      "('new_UNIQUE_MEALS_PURCH', 0.25)\n",
      "('new_UNIQUE_MEALS_PURCH2', 0.03)\n",
      "('new_MEDIAN_MEAL_RATING1', 0.03)\n",
      "('new_MEDIAN_MEAL_RATING2', 0.13)\n",
      "('new_MEDIAN_MEAL_RATING3', -0.0)\n"
     ]
    }
   ],
   "source": [
    "# zipping each feature name to its coefficient\n",
    "lasso_model_values = zip(apprentice_df_full.columns, lasso_fit.coef_.round(decimals = 2))\n",
    "\n",
    "\n",
    "# setting up a placeholder list to store model features\n",
    "lasso_model_lst = [('intercept', lasso_fit.intercept_.round(decimals = 2))]\n",
    "\n",
    "\n",
    "# printing out each feature-coefficient pair one by one\n",
    "for val in lasso_model_values:\n",
    "    lasso_model_lst.append(val)\n",
    "    \n",
    "\n",
    "# checking the results\n",
    "for pair in lasso_model_lst:\n",
    "    print(pair)"
   ]
  },
  {
   "cell_type": "markdown",
   "metadata": {},
   "source": [
    "Now, I need to drop off zero coefficient variables."
   ]
  },
  {
   "cell_type": "code",
   "execution_count": 59,
   "metadata": {},
   "outputs": [
    {
     "name": "stdout",
     "output_type": "stream",
     "text": [
      "('intercept', 2.81)\n",
      "('CROSS_SELL_SUCCESS', -0.01)\n",
      "('UNIQUE_MEALS_PURCH', -0.0)\n",
      "('CONTACTS_W_CUSTOMER_SERVICE', 0.02)\n",
      "('AVG_TIME_PER_SITE_VISIT', 0.0)\n",
      "('CANCELLATIONS_BEFORE_NOON', 0.0)\n",
      "('TASTES_AND_PREFERENCES', 0.0)\n",
      "('MOBILE_LOGINS', -0.0)\n",
      "('EARLY_DELIVERIES', -0.0)\n",
      "('PACKAGE_LOCKER', -0.01)\n",
      "('REFRIGERATED_LOCKER', -0.01)\n",
      "('LARGEST_ORDER_SIZE', -0.03)\n",
      "('MASTER_CLASSES_ATTENDED', 0.03)\n",
      "('MEDIAN_MEAL_RATING', 0.02)\n",
      "('TOTAL_PHOTOS_VIEWED', 0.0)\n",
      "('PROFESSIONAL', 0.0)\n",
      "('log_LARGEST_ORDER_SIZE', 0.15)\n",
      "('new_CONTACTS_W_CUSTOMER_SERVICE', -0.28)\n",
      "('new_AVG_TIME_PER_SITE_VISIT', -0.01)\n",
      "('new_AVG_PREP_VID_TIME', -0.02)\n",
      "('new_MASTER_CLASSES_ATTENDED', -0.01)\n",
      "('new_CANCELLATIONS_BEFORE_NOON', 0.0)\n",
      "('new_WEEKLY_PLAN', 0.01)\n",
      "('new_TOTAL_PHOTOS_VIEWED', -0.02)\n",
      "('new_UNIQUE_MEALS_PURCH', 0.25)\n",
      "('new_UNIQUE_MEALS_PURCH2', 0.03)\n",
      "('new_MEDIAN_MEAL_RATING1', 0.03)\n",
      "('new_MEDIAN_MEAL_RATING2', 0.13)\n"
     ]
    }
   ],
   "source": [
    "## This code may have to be run more than once ##\n",
    "# printing out each feature-coefficient pair one by one\n",
    "for feature, coefficient in lasso_model_lst:\n",
    "        \n",
    "        if coefficient == 0:\n",
    "            lasso_model_lst.remove((feature, coefficient))\n",
    "\n",
    "            \n",
    "# checking the results\n",
    "for pair in lasso_model_lst:\n",
    "    print(pair)"
   ]
  },
  {
   "cell_type": "markdown",
   "metadata": {},
   "source": [
    "## Model Output"
   ]
  },
  {
   "cell_type": "code",
   "execution_count": 60,
   "metadata": {},
   "outputs": [
    {
     "name": "stdout",
     "output_type": "stream",
     "text": [
      "\n",
      "Model      Train Score      Test Score\n",
      "-----      -----------      ----------\n",
      "OLS        0.8119            0.8121\n",
      "Lasso      0.8159            0.8111\n",
      "ARD        0.7662            0.7435\n",
      "\n",
      "  Model Type  Training  Testing  Train-Test Gap  Model Size                                              Model\n",
      "0        OLS    0.8119   0.8121          0.0002          13  [(intercept, 2.95), (CONTACTS_W_CUSTOMER_SERVI...\n",
      "1      Lasso    0.8159   0.8111          0.0048          28  [(intercept, 2.81), (CROSS_SELL_SUCCESS, -0.01...\n",
      "2        ARD    0.7662   0.7435          0.0227          27  [(intercept, 3.11), (CROSS_SELL_SUCCESS, -0.01...\n"
     ]
    }
   ],
   "source": [
    "# comparing results\n",
    "print(f\"\"\"\n",
    "Model      Train Score      Test Score\n",
    "-----      -----------      ----------\n",
    "OLS        {lr_train_score}            {lr_test_score}\n",
    "Lasso      {lasso_train_score}            {lasso_test_score}\n",
    "ARD        {ard_train_score}            {ard_test_score}\n",
    "\"\"\")\n",
    "\n",
    "# creating a dictionary for model results\n",
    "model_performance = {\n",
    "    \n",
    "    'Model Type'    : ['OLS', 'Lasso', 'ARD'],\n",
    "           \n",
    "    'Training' : [lr_train_score, lasso_train_score,\n",
    "                                   ard_train_score],\n",
    "           \n",
    "    'Testing'  : [lr_test_score, lasso_test_score,\n",
    "                                   ard_test_score],\n",
    "                    \n",
    "    'Train-Test Gap' : [lr_test_gap, lasso_test_gap,\n",
    "                                        ard_test_gap],\n",
    "                    \n",
    "    'Model Size' : [len(lr_model_lst), len(lasso_model_lst),\n",
    "                                    len(ard_model_lst)],\n",
    "                    \n",
    "    'Model' : [lr_model_lst, lasso_model_lst, ard_model_lst]}\n",
    "\n",
    "\n",
    "# converting model_performance into a DataFrame\n",
    "model_performance = pd.DataFrame(model_performance)\n",
    "\n",
    "\n",
    "# sending model results to Excel\n",
    "model_performance.to_excel('./linear_model_performance.xlsx',\n",
    "                           index = False)\n",
    "\n",
    "print(model_performance)"
   ]
  },
  {
   "cell_type": "markdown",
   "metadata": {},
   "source": [
    "### Winner Model\n",
    "Even though Lasso training score is higher than OLS, I am going to pick OLS model as winner since train-test gap is lower. "
   ]
  },
  {
   "cell_type": "code",
   "execution_count": 61,
   "metadata": {},
   "outputs": [],
   "source": [
    "apprentice_df.to_excel('./datasets/feature_engineered_1.xlsx',\n",
    "                           index = False)"
   ]
  },
  {
   "cell_type": "code",
   "execution_count": null,
   "metadata": {},
   "outputs": [],
   "source": []
  }
 ],
 "metadata": {
  "kernelspec": {
   "display_name": "Python 3",
   "language": "python",
   "name": "python3"
  },
  "language_info": {
   "codemirror_mode": {
    "name": "ipython",
    "version": 3
   },
   "file_extension": ".py",
   "mimetype": "text/x-python",
   "name": "python",
   "nbconvert_exporter": "python",
   "pygments_lexer": "ipython3",
   "version": "3.8.3"
  },
  "toc": {
   "base_numbering": 1,
   "nav_menu": {},
   "number_sections": true,
   "sideBar": true,
   "skip_h1_title": false,
   "title_cell": "Table of Contents",
   "title_sidebar": "Contents",
   "toc_cell": false,
   "toc_position": {},
   "toc_section_display": true,
   "toc_window_display": false
  },
  "varInspector": {
   "cols": {
    "lenName": 16,
    "lenType": 16,
    "lenVar": 40
   },
   "kernels_config": {
    "python": {
     "delete_cmd_postfix": "",
     "delete_cmd_prefix": "del ",
     "library": "var_list.py",
     "varRefreshCmd": "print(var_dic_list())"
    },
    "r": {
     "delete_cmd_postfix": ") ",
     "delete_cmd_prefix": "rm(",
     "library": "var_list.r",
     "varRefreshCmd": "cat(var_dic_list()) "
    }
   },
   "types_to_exclude": [
    "module",
    "function",
    "builtin_function_or_method",
    "instance",
    "_Feature"
   ],
   "window_display": false
  }
 },
 "nbformat": 4,
 "nbformat_minor": 4
}
